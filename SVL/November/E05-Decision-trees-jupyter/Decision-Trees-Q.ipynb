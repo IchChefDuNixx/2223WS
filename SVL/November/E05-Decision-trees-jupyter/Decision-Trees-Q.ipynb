{
 "cells": [
  {
   "cell_type": "markdown",
   "metadata": {},
   "source": [
    "# Decision Trees \n"
   ]
  },
  {
   "cell_type": "markdown",
   "metadata": {},
   "source": [
    "#### Setting up IPython Notebook\n",
    "The code below simply sets up the jupyter notebook and displays graphs inline (e.g. as HTML)"
   ]
  },
  {
   "cell_type": "code",
   "execution_count": 3,
   "metadata": {},
   "outputs": [],
   "source": [
    "%matplotlib inline\n",
    "\n",
    "import numpy as np\n",
    "import pandas as pd\n",
    "from matplotlib import pyplot as plt\n",
    "import numpy.linalg as la\n",
    "np.set_printoptions(precision=3)\n",
    "def pp_float_list(ps):#pretty print functionality\n",
    "    return [\"%2.3f\" % p for p in ps]"
   ]
  },
  {
   "cell_type": "markdown",
   "metadata": {},
   "source": [
    "# Long-term Goal: Implement the ID3-Algorithm\n",
    "\n",
    "Experiments are conducted on the [UCI CAR Dataset](http://archive.ics.uci.edu/ml/machine-learning-databases/car/).\n",
    "\n",
    "We will cover\n",
    "  \n",
    "  * Data Setup\n",
    "  * Impurity functions and impurity reduction\n",
    "  * ID3 Algorithm for learning a decision tree\n",
    "  * Classifying unseen examples\n",
    "  * Evaluation using cross validation"
   ]
  },
  {
   "cell_type": "markdown",
   "metadata": {},
   "source": [
    "## 1. Data Setup"
   ]
  },
  {
   "cell_type": "markdown",
   "metadata": {},
   "source": [
    "### 1.1 Download and import the data"
   ]
  },
  {
   "cell_type": "code",
   "execution_count": 2,
   "metadata": {
    "scrolled": true
   },
   "outputs": [
    {
     "name": "stderr",
     "output_type": "stream",
     "text": [
      "Ein Unterverzeichnis oder eine Datei mit dem Namen \"CAR\" existiert bereits.\n"
     ]
    },
    {
     "name": "stdout",
     "output_type": "stream",
     "text": [
      "^C\n"
     ]
    }
   ],
   "source": [
    "#shell scripts for downloading the data and placing it in a corresponding directory\n",
    "!mkdir CAR \n",
    "!curl -o CAR/data \"http://archive.ics.uci.edu/ml/machine-learning-databases/car/car.data\"\n",
    "!curl -o CAR/description \"http://archive.ics.uci.edu/ml/machine-learning-databases/car/car.names\"\n",
    "#download the description and display it here.\n",
    "!cat CAR/description"
   ]
  },
  {
   "cell_type": "markdown",
   "metadata": {},
   "source": [
    "### 1.2 A bit of ugly preprocessing (ignore that part)"
   ]
  },
  {
   "cell_type": "code",
   "execution_count": 7,
   "metadata": {},
   "outputs": [
    {
     "name": "stdout",
     "output_type": "stream",
     "text": [
      "(1728, 6) (1728,)\n"
     ]
    }
   ],
   "source": [
    "# csv-file has no header, so we define it manually\n",
    "col_names = ['price_buy', 'price_main', 'n_doors', 'n_persons', 'lug_boot', 'safety', 'recommendation']\n",
    "df = pd.read_csv(\"./CAR/data\", header=None, names=col_names)\n",
    "\n",
    "# All attributes are categorical - a mix of strings and integers.\n",
    "# We simply map the categorical values of each attribute to a set of distinct integers\n",
    "ai2an_map = col_names\n",
    "ai2aiv2aivn_map = []\n",
    "enc_cols = []\n",
    "for col in df.columns:\n",
    "    df[col] = df[col].astype('category')\n",
    "    a = np.array(df[col].cat.codes.values).reshape((-1,1))\n",
    "    enc_cols.append(a)\n",
    "    ai2aiv2aivn_map.append(list(df[col].cat.categories.values))\n",
    "    \n",
    "# Get the data as numpy 2d-matrix (n_samples, n_features)\n",
    "feature_names = ai2an_map\n",
    "feature_value_names = ai2aiv2aivn_map[:6]\n",
    "class_label_names = ai2aiv2aivn_map[6]\n",
    "\n",
    "dataset = np.hstack(enc_cols)\n",
    "X, y = dataset[:,:6], dataset[:,6]\n",
    "print(X.shape, y.shape)"
   ]
  },
  {
   "cell_type": "markdown",
   "metadata": {},
   "source": [
    "### 1.3 The data"
   ]
  },
  {
   "cell_type": "markdown",
   "metadata": {},
   "source": [
    "The data matrix ```X``` contains the preprocessed dataset. Each column corresponds to a feature. The feature names are given in ```feature_names```. The meaning of the feature values are given in ```feature_value_names```. \n",
    "\n",
    "The array ```y``` contains the class of each car. The meaning of each class is given in ```class_label_names```."
   ]
  },
  {
   "cell_type": "code",
   "execution_count": 8,
   "metadata": {},
   "outputs": [
    {
     "data": {
      "text/plain": [
       "(array([[3, 3, 0, 0, 2, 1],\n",
       "        [3, 3, 0, 0, 2, 2],\n",
       "        [3, 3, 0, 0, 2, 0],\n",
       "        ...,\n",
       "        [1, 1, 3, 2, 0, 1],\n",
       "        [1, 1, 3, 2, 0, 2],\n",
       "        [1, 1, 3, 2, 0, 0]], dtype=int8),\n",
       " array([2, 2, 2, ..., 2, 1, 3], dtype=int8))"
      ]
     },
     "execution_count": 8,
     "metadata": {},
     "output_type": "execute_result"
    }
   ],
   "source": [
    "X, y"
   ]
  },
  {
   "cell_type": "code",
   "execution_count": 9,
   "metadata": {},
   "outputs": [
    {
     "data": {
      "text/plain": [
       "(['price_buy',\n",
       "  'price_main',\n",
       "  'n_doors',\n",
       "  'n_persons',\n",
       "  'lug_boot',\n",
       "  'safety',\n",
       "  'recommendation'],\n",
       " [['high', 'low', 'med', 'vhigh'],\n",
       "  ['high', 'low', 'med', 'vhigh'],\n",
       "  ['2', '3', '4', '5more'],\n",
       "  ['2', '4', 'more'],\n",
       "  ['big', 'med', 'small'],\n",
       "  ['high', 'low', 'med']],\n",
       " ['acc', 'good', 'unacc', 'vgood'])"
      ]
     },
     "execution_count": 9,
     "metadata": {},
     "output_type": "execute_result"
    }
   ],
   "source": [
    "feature_names, feature_value_names, class_label_names"
   ]
  },
  {
   "cell_type": "markdown",
   "metadata": {},
   "source": [
    "## 2. Impurity functions and impurity reduction\n",
    "In the following, we will implement the impurity function(s) $\\iota(D)$ and impurity reduction function $\\Delta\\iota(D,\\{D_1\\ldots D_s\\})$.\n",
    "\n",
    "$$\n",
    "\\iota(D) = \\iota\\left(\\frac{|\\{(x,c(x))\\in D : c(x) = c_1\\}|}{|D|},...,\\frac{|\\{(x,c(x))\\in D : c(x) = c_k\\}|}{|D|}\\right)\n",
    "$$\n",
    "\n",
    "$$\n",
    "\\Delta\\iota(D,\\{D_1\\ldots D_s\\}) = \\iota(D) - \\sum_{j=1}^{s}\\frac{|D_j|}{|D|}\\cdot\\iota(D_j)\n",
    "$$\n"
   ]
  },
  {
   "cell_type": "markdown",
   "metadata": {},
   "source": [
    "### 2.1 Impurity functions"
   ]
  },
  {
   "cell_type": "code",
   "execution_count": 1,
   "metadata": {
    "tags": []
   },
   "outputs": [],
   "source": [
    "import math\n",
    "\n",
    "\n",
    "def _entropy(p):\n",
    "    \"\"\"\n",
    "    p: class frequencies as numpy array with np.sum(p)=1\n",
    "    returns: impurity according to entropy criterion\n",
    "    \"\"\"\n",
    "    # TODO\n",
    "    \n",
    "    return -sum([pi * math.log2(pi) for pi in p if pi != 0])\n",
    "\n",
    "def _gini(p):\n",
    "    \"\"\"\n",
    "    p: class frequencies as numpy array with np.sum(p)=1\n",
    "    returns: impurity according to gini criterion\n",
    "    \"\"\"\n",
    "    # TODO\n",
    "    return 1 - sum([pi*pi for pi in p])\n",
    "\n",
    "def _misclass(p):\n",
    "    \"\"\"\n",
    "    p: class frequencies as numpy array with np.sum(p)=1\n",
    "    returns: impurity according to misclassification rate\n",
    "    \"\"\"\n",
    "    # TODO\n",
    "    return 1 - np.max(p)"
   ]
  },
  {
   "cell_type": "code",
   "execution_count": 4,
   "metadata": {},
   "outputs": [
    {
     "data": {
      "text/plain": [
       "1.0"
      ]
     },
     "execution_count": 4,
     "metadata": {},
     "output_type": "execute_result"
    }
   ],
   "source": [
    "_entropy(np.array([0.5, 0.5]))"
   ]
  },
  {
   "cell_type": "markdown",
   "metadata": {},
   "source": [
    "Lets visualise the functions for the 2D case"
   ]
  },
  {
   "cell_type": "code",
   "execution_count": 5,
   "metadata": {},
   "outputs": [
    {
     "data": {
      "image/png": "[encoded data removed]",
      "text/plain": [
       "<Figure size 432x288 with 1 Axes>"
      ]
     },
     "metadata": {
      "needs_background": "light"
     },
     "output_type": "display_data"
    }
   ],
   "source": [
    "#lets plot the functions for the 2D case \n",
    "p1=np.linspace(0,1,40)\n",
    "imp_gini=[_gini(np.array([p,1-p])) for p in p1]\n",
    "imp_ent=[_entropy(np.array([p,1-p])) for p in p1]\n",
    "imp_mc=[_misclass(np.array([p,1-p])) for p in p1]\n",
    "plt.plot (p1,imp_gini,label=\"gini\")\n",
    "plt.plot (p1,imp_ent,label=\"entropy\")\n",
    "plt.plot (p1,imp_mc,label=\"misclassification\")\n",
    "plt.xlabel(\"(p,1-p)\")\n",
    "plt.ylabel(\"impurity(p1,p2)\")\n",
    "plt.legend()\n",
    "plt.show()"
   ]
  },
  {
   "cell_type": "markdown",
   "metadata": {},
   "source": [
    "### 2.2 Impurity reduction"
   ]
  },
  {
   "cell_type": "code",
   "execution_count": 10,
   "metadata": {
    "tags": []
   },
   "outputs": [
    {
     "name": "stdout",
     "output_type": "stream",
     "text": [
      "<function _misclass at 0x000001C9741AEEE0> \tdelta = 0.001736111111111105 \tfor column 0\n",
      "<function _misclass at 0x000001C9741AEEE0> \tdelta = 0.001736111111111105 \tfor column 1\n",
      "<function _misclass at 0x000001C9741AEEE0> \tdelta = 0.0017361111111111605 \tfor column 2\n",
      "<function _misclass at 0x000001C9741AEEE0> \tdelta = 0.0011574074074075513 \tfor column 3\n",
      "<function _misclass at 0x000001C9741AEEE0> \tdelta = 0.0011574074074074958 \tfor column 4\n",
      "<function _misclass at 0x000001C9741AEEE0> \tdelta = 0.0011574074074074958 \tfor column 5\n",
      "<function _gini at 0x000001C9724CF310> \tdelta = 0.016567402906378703 \tfor column 0\n",
      "<function _gini at 0x000001C9724CF310> \tdelta = 0.014032895018861513 \tfor column 1\n",
      "<function _gini at 0x000001C9724CF310> \tdelta = 0.004018105924211368 \tfor column 2\n",
      "<function _gini at 0x000001C9724CF310> \tdelta = 0.07091766064386174 \tfor column 3\n",
      "<function _gini at 0x000001C9724CF310> \tdelta = 0.004529495134602435 \tfor column 4\n",
      "<function _gini at 0x000001C9724CF310> \tdelta = 0.07426530081875882 \tfor column 5\n",
      "<function _entropy at 0x000001C9724CF160> \tdelta = 0.09788895396602482 \tfor column 0\n",
      "<function _entropy at 0x000001C9724CF160> \tdelta = 0.07514948691201195 \tfor column 1\n",
      "<function _entropy at 0x000001C9724CF160> \tdelta = 0.006128004740469484 \tfor column 2\n",
      "<function _entropy at 0x000001C9724CF160> \tdelta = 0.3766756543654267 \tfor column 3\n",
      "<function _entropy at 0x000001C9724CF160> \tdelta = 0.18554008884759354 \tfor column 4\n",
      "<function _entropy at 0x000001C9724CF160> \tdelta = 0.38164285025981814 \tfor column 5\n"
     ]
    }
   ],
   "source": [
    "def impurity_reduction(X, a_i, y, impurity, verbose=0):\n",
    "    \"\"\"\n",
    "    X: data matrix n rows, d columns\n",
    "    a_i: column index of the attribute to evaluate the impurity reduction for\n",
    "    y: class label vector with n rows and 1 column\n",
    "    impurity: impurity function of the form impurity(p_1....p_k) with k=|X[a].unique|\n",
    "    returns: impurity reduction / delta\n",
    "    Note: for more readable code we do not check any assertion \n",
    "    \"\"\"\n",
    "    \n",
    "    N, d = int(X.shape[0]), int(X.shape[1]) # 1728.0, 6.0\n",
    "\n",
    "    y_v = np.unique(y) # array([0, 1, 2, 3], dtype=int8)\n",
    "    \n",
    "    # Compute relative frequency of each class in X\n",
    "    p = (1. / N) * np.array([np.sum(y==c) for c in y_v]) # [0.222 0.04  0.7   0.038]\n",
    "    \n",
    "    # ..and corresponding impurity l(D)\n",
    "    H_p = impurity(p) # 0.2997685185185186\n",
    "    \n",
    "    if verbose: print (\"\\t Impurity %0.3f: %s\" % (H_p, pp_float_list(p)))\n",
    "    \n",
    "    a_v = np.unique(X[:, a_i]) # [0 1 2 3]\n",
    "    \n",
    "    # Create and evaluate splitting of X induced by attribute a_i\n",
    "    # We assume nominal features and perform m-ary splitting\n",
    "    \n",
    "    # TODO\n",
    "    \n",
    "    leavesFiltered = []\n",
    "    yLabelsFiltered = []\n",
    "    #print(N,d,y_v,p,H_p,a_v)\n",
    "    for i in range(len(a_v)):\n",
    "        tempArray = []\n",
    "        for j in range(N):\n",
    "            if X[j][a_i] == a_v[i]:\n",
    "                tempArray.append(X[j][a_i])\n",
    "                yLabelsFiltered.append(y[j])\n",
    "        leavesFiltered.append(tempArray)\n",
    "        #leavesFiltered.append([row for row in X if row[a_i] == a_v[i]])#subtree with first value as root\n",
    "    leavesFrequency = []\n",
    "    start = 0\n",
    "    end = 1\n",
    "    for i, label in enumerate(a_v):\n",
    "        end += len(leavesFiltered[i])\n",
    "        leavesFrequency.append((1./len(leavesFiltered[i])) * np.array([np.sum(yLabelsFiltered[start:end] == c) for c in a_v]))\n",
    "        start += len(leavesFiltered[i])\n",
    "    weightedMean = 0\n",
    "    for i, relFreq in enumerate(leavesFrequency):\n",
    "        weightedMean += impurity(relFreq) * (len(leavesFiltered[i])/N)\n",
    "    #print(weightedMean)\n",
    "    #print(leavesFiltered[0])\n",
    "    return H_p - weightedMean\n",
    "purity = [_misclass, _gini, _entropy]\n",
    "for purr in purity:\n",
    "    for i in range(6):\n",
    "        print(purr, \"\\tdelta =\", impurity_reduction(X, i, y, purr), \"\\tfor column\", i)"
   ]
  },
  {
   "cell_type": "markdown",
   "metadata": {},
   "source": [
    "# 3. ID3 Algorithm (later)"
   ]
  },
  {
   "cell_type": "code",
   "execution_count": null,
   "metadata": {},
   "outputs": [],
   "source": []
  }
 ],
 "metadata": {
  "anaconda-cloud": {},
  "kernelspec": {
   "display_name": "Python 3.9.12 ('base')",
   "language": "python",
   "name": "python3"
  },
  "language_info": {
   "codemirror_mode": {
    "name": "ipython",
    "version": 3
   },
   "file_extension": ".py",
   "mimetype": "text/x-python",
   "name": "python",
   "nbconvert_exporter": "python",
   "pygments_lexer": "ipython3",
   "version": "3.9.12"
  },
  "toc": {
   "colors": {
    "hover_highlight": "#DAA520",
    "running_highlight": "#FF0000",
    "selected_highlight": "#FFD700"
   },
   "moveMenuLeft": true,
   "nav_menu": {
    "height": "210px",
    "width": "252px"
   },
   "navigate_menu": true,
   "number_sections": true,
   "sideBar": true,
   "threshold": 4,
   "toc_cell": false,
   "toc_section_display": "block",
   "toc_window_display": false,
   "widenNotebook": false
  },
  "vscode": {
   "interpreter": {
    "hash": "3017eed01e41510f2e4758f02a5c4b458edd512c2a48ee2ef97492bf17f5a7a1"
   }
  }
 },
 "nbformat": 4,
 "nbformat_minor": 4
}
