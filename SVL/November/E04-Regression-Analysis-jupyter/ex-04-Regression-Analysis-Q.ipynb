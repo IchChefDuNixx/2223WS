{
 "cells": [
  {
   "cell_type": "markdown",
   "metadata": {},
   "source": [
    "# Exercise 04: Linear Regression\n"
   ]
  },
  {
   "cell_type": "code",
   "execution_count": 159,
   "metadata": {},
   "outputs": [],
   "source": [
    "import numpy as np\n",
    "import numpy.linalg as la\n",
    "import matplotlib.pyplot as plt\n",
    "import scipy.stats as stats\n",
    "%matplotlib inline"
   ]
  },
  {
   "cell_type": "code",
   "execution_count": 160,
   "metadata": {},
   "outputs": [],
   "source": [
    "import pandas as pd # install package 'pandas' with \"conda install pandas\" or \"pip install pandas\""
   ]
  },
  {
   "cell_type": "markdown",
   "metadata": {},
   "source": [
    "## 1. Simple Linear Regression (Chocolate stores)"
   ]
  },
  {
   "cell_type": "markdown",
   "metadata": {},
   "source": [
    "You are working for a high-end chocolate manufacturer and are considering the launch of a new very high-end chocolate bar. To decide on the ideal selling price, you have conducted an experiment in 6 stores and offered the new product for different prices for the same two weeks. You can find the number of products sold in the table on the right side.\n",
    "\n",
    "|Shop\t     |Price       |Units sold |\n",
    "|------------|------------|-----------|\n",
    "|1           |20          |0          |\n",
    "|2           |16          |3          |\n",
    "|3           |15          |7          |\n",
    "|4           |16          |4          |\n",
    "|5           |13          |6          |\n",
    "|6           |10          |10         |\n",
    "\n",
    "We consider the relationship between `price` and `sold units`."
   ]
  },
  {
   "cell_type": "markdown",
   "metadata": {},
   "source": [
    "### 1.1 Determine the weights $w_0, w_1$ for a linear regression model with 'units sold' as dependent variable.\n",
    "\n",
    "The derivation of the equation can be found at the lecture notes from [Prof. Kirchner](http://seismo.berkeley.edu/~kirchner/eps_120/Toolkits/Toolkit_10.pdf)"
   ]
  },
  {
   "cell_type": "markdown",
   "metadata": {},
   "source": [
    "Estimating $w_0$ and $w_1$ is done as\n",
    "\n",
    "$w_0=\\bar{y}-w_1\\bar{x}$\n",
    "\n",
    "$w_1 =\\frac{Cov(X,Y)}{Var(X)}=\\frac{\\frac{1}{n} \\sum_{i=1}^{n} (x_i-\\bar{x})(y_i-\\bar{y})}{\\frac{1}{n}\\sum_{i=1}^{n} (x_i-\\bar{x})^2}$\n"
   ]
  },
  {
   "cell_type": "code",
   "execution_count": 161,
   "metadata": {},
   "outputs": [
    {
     "name": "stdout",
     "output_type": "stream",
     "text": [
      "Independent variable: [[20]\n",
      " [16]\n",
      " [15]\n",
      " [16]\n",
      " [13]\n",
      " [10]] <class 'numpy.ndarray'>\n",
      "Dependent variable: [[ 0]\n",
      " [ 3]\n",
      " [ 7]\n",
      " [ 4]\n",
      " [ 6]\n",
      " [10]] <class 'numpy.ndarray'>\n"
     ]
    }
   ],
   "source": [
    "''' Data '''\n",
    "data = np.array([[20, 0],[16, 3],[15, 7],[16, 4], [13, 6], [10, 10]])\n",
    "X = data[:,[0]]\n",
    "y = data[:,[1]]\n",
    "print (\"Independent variable:\", X, type(X))\n",
    "print (\"Dependent variable:\", y, type(y))"
   ]
  },
  {
   "cell_type": "code",
   "execution_count": 162,
   "metadata": {},
   "outputs": [
    {
     "name": "stdout",
     "output_type": "stream",
     "text": [
      "w0 = [19.73214286], w1 = [-0.98214286]\n"
     ]
    }
   ],
   "source": [
    "def w1_estimate1D(x, y):\n",
    "    enum = 0\n",
    "    div = 0\n",
    "    Xmean = np.mean(X)\n",
    "    Ymean = np.mean(y)\n",
    "    size = len(x)\n",
    "    for i in range(len(X)):\n",
    "        enum += (X[i] - Xmean)*(y[i] - Ymean)\n",
    "    enum /= size    \n",
    "    for point in x:\n",
    "        div += (point - Xmean)**2\n",
    "    div /= size\n",
    "    \n",
    "    return enum/div\n",
    "\n",
    "def w0_estimate1D(x, y, w1):\n",
    "    return (np.mean(y) - w1 * np.mean(x))\n",
    "\n",
    "w1 = w1_estimate1D(X, y)\n",
    "w0 = w0_estimate1D(X, y, w1)\n",
    "print (f\"w0 = {w0}, w1 = {w1}\")"
   ]
  },
  {
   "cell_type": "markdown",
   "metadata": {},
   "source": [
    "### 1.2 Draw a scatter plot of the data and the regression line.\n",
    "\n",
    "Now let's plot the data points and our regression line. Is it plausible?"
   ]
  },
  {
   "cell_type": "code",
   "execution_count": 163,
   "metadata": {},
   "outputs": [
    {
     "data": {
      "image/png": "[encoded data removed]",
      "text/plain": [
       "<Figure size 432x288 with 1 Axes>"
      ]
     },
     "metadata": {
      "needs_background": "light"
     },
     "output_type": "display_data"
    }
   ],
   "source": [
    "plt.plot(X, y, 'o')\n",
    "plt.ylim([0,20])\n",
    "plt.plot(np.linspace(5, 25, 2), np.linspace(5, 25, 2) * w1 + w0, '-r')\n",
    "plt.show()\n"
   ]
  },
  {
   "cell_type": "code",
   "execution_count": 164,
   "metadata": {},
   "outputs": [
    {
     "name": "stdout",
     "output_type": "stream",
     "text": [
      "r² =  [0.90029762]  =  [0.90029762]\n"
     ]
    }
   ],
   "source": [
    "# error -> run all\n",
    "SStot = 0\n",
    "Ymean = np.mean(y)\n",
    "for why in y:\n",
    "    SStot += (why - Ymean)**2\n",
    "SSreg = 0\n",
    "for point in data:\n",
    "    SSreg += (w0 + point[0] * w1 - Ymean)**2\n",
    "SSres = 0\n",
    "for point in data:\n",
    "    SSres += (point[1] - (w0 + w1 * point[0]))**2\n",
    "print(\"r² = \", 1 - (SSres/SStot), \" = \", SSreg/SStot)"
   ]
  },
  {
   "cell_type": "markdown",
   "metadata": {},
   "source": [
    "## 2. Multiple Linear Regression\n",
    "\n",
    "Given the car dataset below, how can we predict the `miles per gallon` from cylinders, displacement, horsepower, weight, acceleration and year?"
   ]
  },
  {
   "cell_type": "markdown",
   "metadata": {},
   "source": [
    "### 2.1 Dataset"
   ]
  },
  {
   "cell_type": "code",
   "execution_count": 165,
   "metadata": {},
   "outputs": [
    {
     "data": {
      "text/html": [
       "<div>\n",
       "<style scoped>\n",
       "    .dataframe tbody tr th:only-of-type {\n",
       "        vertical-align: middle;\n",
       "    }\n",
       "\n",
       "    .dataframe tbody tr th {\n",
       "        vertical-align: top;\n",
       "    }\n",
       "\n",
       "    .dataframe thead th {\n",
       "        text-align: right;\n",
       "    }\n",
       "</style>\n",
       "<table border=\"1\" class=\"dataframe\">\n",
       "  <thead>\n",
       "    <tr style=\"text-align: right;\">\n",
       "      <th></th>\n",
       "      <th>mpg</th>\n",
       "      <th>cylinders</th>\n",
       "      <th>displacement</th>\n",
       "      <th>horsepower</th>\n",
       "      <th>weight</th>\n",
       "      <th>acceleration</th>\n",
       "      <th>year</th>\n",
       "      <th>origin</th>\n",
       "      <th>name</th>\n",
       "    </tr>\n",
       "  </thead>\n",
       "  <tbody>\n",
       "    <tr>\n",
       "      <th>0</th>\n",
       "      <td>18.0</td>\n",
       "      <td>8.0</td>\n",
       "      <td>307.0</td>\n",
       "      <td>130.0</td>\n",
       "      <td>3504.0</td>\n",
       "      <td>12.0</td>\n",
       "      <td>70.0</td>\n",
       "      <td>1.0</td>\n",
       "      <td>chevrolet chevelle malibu</td>\n",
       "    </tr>\n",
       "    <tr>\n",
       "      <th>1</th>\n",
       "      <td>15.0</td>\n",
       "      <td>8.0</td>\n",
       "      <td>350.0</td>\n",
       "      <td>165.0</td>\n",
       "      <td>3693.0</td>\n",
       "      <td>11.5</td>\n",
       "      <td>70.0</td>\n",
       "      <td>1.0</td>\n",
       "      <td>buick skylark 320</td>\n",
       "    </tr>\n",
       "    <tr>\n",
       "      <th>2</th>\n",
       "      <td>18.0</td>\n",
       "      <td>8.0</td>\n",
       "      <td>318.0</td>\n",
       "      <td>150.0</td>\n",
       "      <td>3436.0</td>\n",
       "      <td>11.0</td>\n",
       "      <td>70.0</td>\n",
       "      <td>1.0</td>\n",
       "      <td>plymouth satellite</td>\n",
       "    </tr>\n",
       "    <tr>\n",
       "      <th>3</th>\n",
       "      <td>16.0</td>\n",
       "      <td>8.0</td>\n",
       "      <td>304.0</td>\n",
       "      <td>150.0</td>\n",
       "      <td>3433.0</td>\n",
       "      <td>12.0</td>\n",
       "      <td>70.0</td>\n",
       "      <td>1.0</td>\n",
       "      <td>amc rebel sst</td>\n",
       "    </tr>\n",
       "    <tr>\n",
       "      <th>4</th>\n",
       "      <td>17.0</td>\n",
       "      <td>8.0</td>\n",
       "      <td>302.0</td>\n",
       "      <td>140.0</td>\n",
       "      <td>3449.0</td>\n",
       "      <td>10.5</td>\n",
       "      <td>70.0</td>\n",
       "      <td>1.0</td>\n",
       "      <td>ford torino</td>\n",
       "    </tr>\n",
       "  </tbody>\n",
       "</table>\n",
       "</div>"
      ],
      "text/plain": [
       "    mpg  cylinders  displacement  horsepower  weight  acceleration  year  \\\n",
       "0  18.0        8.0         307.0       130.0  3504.0          12.0  70.0   \n",
       "1  15.0        8.0         350.0       165.0  3693.0          11.5  70.0   \n",
       "2  18.0        8.0         318.0       150.0  3436.0          11.0  70.0   \n",
       "3  16.0        8.0         304.0       150.0  3433.0          12.0  70.0   \n",
       "4  17.0        8.0         302.0       140.0  3449.0          10.5  70.0   \n",
       "\n",
       "   origin                       name  \n",
       "0     1.0  chevrolet chevelle malibu  \n",
       "1     1.0          buick skylark 320  \n",
       "2     1.0         plymouth satellite  \n",
       "3     1.0              amc rebel sst  \n",
       "4     1.0                ford torino  "
      ]
     },
     "execution_count": 165,
     "metadata": {},
     "output_type": "execute_result"
    }
   ],
   "source": [
    "data = pd.read_csv(\"./dataset/auto-mpg.csv\")\n",
    "data.head()"
   ]
  },
  {
   "cell_type": "markdown",
   "metadata": {},
   "source": [
    "Select the relevant columns and convert them to numpy ndarrays:"
   ]
  },
  {
   "cell_type": "code",
   "execution_count": 166,
   "metadata": {},
   "outputs": [
    {
     "name": "stdout",
     "output_type": "stream",
     "text": [
      "[[18. ]\n",
      " [15. ]\n",
      " [18. ]\n",
      " [16. ]\n",
      " [17. ]\n",
      " [15. ]\n",
      " [14. ]\n",
      " [14. ]\n",
      " [14. ]\n",
      " [15. ]\n",
      " [15. ]\n",
      " [14. ]\n",
      " [15. ]\n",
      " [14. ]\n",
      " [24. ]\n",
      " [22. ]\n",
      " [18. ]\n",
      " [21. ]\n",
      " [27. ]\n",
      " [26. ]\n",
      " [25. ]\n",
      " [24. ]\n",
      " [25. ]\n",
      " [26. ]\n",
      " [21. ]\n",
      " [10. ]\n",
      " [10. ]\n",
      " [11. ]\n",
      " [ 9. ]\n",
      " [27. ]\n",
      " [28. ]\n",
      " [25. ]\n",
      " [19. ]\n",
      " [16. ]\n",
      " [17. ]\n",
      " [19. ]\n",
      " [18. ]\n",
      " [14. ]\n",
      " [14. ]\n",
      " [14. ]\n",
      " [14. ]\n",
      " [12. ]\n",
      " [13. ]\n",
      " [13. ]\n",
      " [18. ]\n",
      " [22. ]\n",
      " [19. ]\n",
      " [18. ]\n",
      " [23. ]\n",
      " [28. ]\n",
      " [30. ]\n",
      " [30. ]\n",
      " [31. ]\n",
      " [35. ]\n",
      " [27. ]\n",
      " [26. ]\n",
      " [24. ]\n",
      " [25. ]\n",
      " [23. ]\n",
      " [20. ]\n",
      " [21. ]\n",
      " [13. ]\n",
      " [14. ]\n",
      " [15. ]\n",
      " [14. ]\n",
      " [17. ]\n",
      " [11. ]\n",
      " [13. ]\n",
      " [12. ]\n",
      " [13. ]\n",
      " [19. ]\n",
      " [15. ]\n",
      " [13. ]\n",
      " [13. ]\n",
      " [14. ]\n",
      " [18. ]\n",
      " [22. ]\n",
      " [21. ]\n",
      " [26. ]\n",
      " [22. ]\n",
      " [28. ]\n",
      " [23. ]\n",
      " [28. ]\n",
      " [27. ]\n",
      " [13. ]\n",
      " [14. ]\n",
      " [13. ]\n",
      " [14. ]\n",
      " [15. ]\n",
      " [12. ]\n",
      " [13. ]\n",
      " [13. ]\n",
      " [14. ]\n",
      " [13. ]\n",
      " [12. ]\n",
      " [13. ]\n",
      " [18. ]\n",
      " [16. ]\n",
      " [18. ]\n",
      " [18. ]\n",
      " [23. ]\n",
      " [26. ]\n",
      " [11. ]\n",
      " [12. ]\n",
      " [13. ]\n",
      " [12. ]\n",
      " [18. ]\n",
      " [20. ]\n",
      " [21. ]\n",
      " [22. ]\n",
      " [18. ]\n",
      " [19. ]\n",
      " [21. ]\n",
      " [26. ]\n",
      " [15. ]\n",
      " [16. ]\n",
      " [29. ]\n",
      " [24. ]\n",
      " [20. ]\n",
      " [19. ]\n",
      " [15. ]\n",
      " [24. ]\n",
      " [20. ]\n",
      " [11. ]\n",
      " [20. ]\n",
      " [19. ]\n",
      " [15. ]\n",
      " [31. ]\n",
      " [26. ]\n",
      " [32. ]\n",
      " [25. ]\n",
      " [16. ]\n",
      " [16. ]\n",
      " [18. ]\n",
      " [16. ]\n",
      " [13. ]\n",
      " [14. ]\n",
      " [14. ]\n",
      " [14. ]\n",
      " [29. ]\n",
      " [26. ]\n",
      " [26. ]\n",
      " [31. ]\n",
      " [32. ]\n",
      " [28. ]\n",
      " [24. ]\n",
      " [26. ]\n",
      " [24. ]\n",
      " [26. ]\n",
      " [31. ]\n",
      " [19. ]\n",
      " [18. ]\n",
      " [15. ]\n",
      " [15. ]\n",
      " [16. ]\n",
      " [15. ]\n",
      " [16. ]\n",
      " [14. ]\n",
      " [17. ]\n",
      " [16. ]\n",
      " [15. ]\n",
      " [18. ]\n",
      " [21. ]\n",
      " [20. ]\n",
      " [13. ]\n",
      " [29. ]\n",
      " [23. ]\n",
      " [20. ]\n",
      " [23. ]\n",
      " [24. ]\n",
      " [25. ]\n",
      " [24. ]\n",
      " [18. ]\n",
      " [29. ]\n",
      " [19. ]\n",
      " [23. ]\n",
      " [23. ]\n",
      " [22. ]\n",
      " [25. ]\n",
      " [33. ]\n",
      " [28. ]\n",
      " [25. ]\n",
      " [25. ]\n",
      " [26. ]\n",
      " [27. ]\n",
      " [17.5]\n",
      " [16. ]\n",
      " [15.5]\n",
      " [14.5]\n",
      " [22. ]\n",
      " [22. ]\n",
      " [24. ]\n",
      " [22.5]\n",
      " [29. ]\n",
      " [24.5]\n",
      " [29. ]\n",
      " [33. ]\n",
      " [20. ]\n",
      " [18. ]\n",
      " [18.5]\n",
      " [17.5]\n",
      " [29.5]\n",
      " [32. ]\n",
      " [28. ]\n",
      " [26.5]\n",
      " [20. ]\n",
      " [13. ]\n",
      " [19. ]\n",
      " [19. ]\n",
      " [16.5]\n",
      " [16.5]\n",
      " [13. ]\n",
      " [13. ]\n",
      " [13. ]\n",
      " [31.5]\n",
      " [30. ]\n",
      " [36. ]\n",
      " [25.5]\n",
      " [33.5]\n",
      " [17.5]\n",
      " [17. ]\n",
      " [15.5]\n",
      " [15. ]\n",
      " [17.5]\n",
      " [20.5]\n",
      " [19. ]\n",
      " [18.5]\n",
      " [16. ]\n",
      " [15.5]\n",
      " [15.5]\n",
      " [16. ]\n",
      " [29. ]\n",
      " [24.5]\n",
      " [26. ]\n",
      " [25.5]\n",
      " [30.5]\n",
      " [33.5]\n",
      " [30. ]\n",
      " [30.5]\n",
      " [22. ]\n",
      " [21.5]\n",
      " [21.5]\n",
      " [43.1]\n",
      " [36.1]\n",
      " [32.8]\n",
      " [39.4]\n",
      " [36.1]\n",
      " [19.9]\n",
      " [19.4]\n",
      " [20.2]\n",
      " [19.2]\n",
      " [20.5]\n",
      " [20.2]\n",
      " [25.1]\n",
      " [20.5]\n",
      " [19.4]\n",
      " [20.6]\n",
      " [20.8]\n",
      " [18.6]\n",
      " [18.1]\n",
      " [19.2]\n",
      " [17.7]\n",
      " [18.1]\n",
      " [17.5]\n",
      " [30. ]\n",
      " [27.5]\n",
      " [27.2]\n",
      " [30.9]\n",
      " [21.1]\n",
      " [23.2]\n",
      " [23.8]\n",
      " [23.9]\n",
      " [20.3]\n",
      " [17. ]\n",
      " [21.6]\n",
      " [16.2]\n",
      " [31.5]\n",
      " [29.5]\n",
      " [21.5]\n",
      " [19.8]\n",
      " [22.3]\n",
      " [20.2]\n",
      " [20.6]\n",
      " [17. ]\n",
      " [17.6]\n",
      " [16.5]\n",
      " [18.2]\n",
      " [16.9]\n",
      " [15.5]\n",
      " [19.2]\n",
      " [18.5]\n",
      " [31.9]\n",
      " [34.1]\n",
      " [35.7]\n",
      " [27.4]\n",
      " [25.4]\n",
      " [23. ]\n",
      " [27.2]\n",
      " [23.9]\n",
      " [34.2]\n",
      " [34.5]\n",
      " [31.8]\n",
      " [37.3]\n",
      " [28.4]\n",
      " [28.8]\n",
      " [26.8]\n",
      " [33.5]\n",
      " [41.5]\n",
      " [38.1]\n",
      " [32.1]\n",
      " [37.2]\n",
      " [28. ]\n",
      " [26.4]\n",
      " [24.3]\n",
      " [19.1]\n",
      " [34.3]\n",
      " [29.8]\n",
      " [31.3]\n",
      " [37. ]\n",
      " [32.2]\n",
      " [46.6]\n",
      " [27.9]\n",
      " [40.8]\n",
      " [44.3]\n",
      " [43.4]\n",
      " [36.4]\n",
      " [30. ]\n",
      " [44.6]\n",
      " [33.8]\n",
      " [29.8]\n",
      " [32.7]\n",
      " [23.7]\n",
      " [35. ]\n",
      " [32.4]\n",
      " [27.2]\n",
      " [26.6]\n",
      " [25.8]\n",
      " [23.5]\n",
      " [30. ]\n",
      " [39.1]\n",
      " [39. ]\n",
      " [35.1]\n",
      " [32.3]\n",
      " [37. ]\n",
      " [37.7]\n",
      " [34.1]\n",
      " [34.7]\n",
      " [34.4]\n",
      " [29.9]\n",
      " [33. ]\n",
      " [33.7]\n",
      " [32.4]\n",
      " [32.9]\n",
      " [31.6]\n",
      " [28.1]\n",
      " [30.7]\n",
      " [25.4]\n",
      " [24.2]\n",
      " [22.4]\n",
      " [26.6]\n",
      " [20.2]\n",
      " [17.6]\n",
      " [28. ]\n",
      " [27. ]\n",
      " [34. ]\n",
      " [31. ]\n",
      " [29. ]\n",
      " [27. ]\n",
      " [24. ]\n",
      " [36. ]\n",
      " [37. ]\n",
      " [31. ]\n",
      " [38. ]\n",
      " [36. ]\n",
      " [36. ]\n",
      " [36. ]\n",
      " [34. ]\n",
      " [38. ]\n",
      " [32. ]\n",
      " [38. ]\n",
      " [25. ]\n",
      " [38. ]\n",
      " [26. ]\n",
      " [22. ]\n",
      " [32. ]\n",
      " [36. ]\n",
      " [27. ]\n",
      " [27. ]\n",
      " [44. ]\n",
      " [32. ]\n",
      " [28. ]\n",
      " [31. ]]\n",
      "Data points: 392 Independent Variables: 6\n"
     ]
    }
   ],
   "source": [
    "x_column_names = ['cylinders', 'displacement', 'horsepower', 'weight', 'acceleration', 'year']\n",
    "y_column_name = 'mpg'\n",
    "X = data[x_column_names].values\n",
    "y = data[[y_column_name]].values\n",
    "print(y)\n",
    "N = X.shape[0]\n",
    "P = X.shape[1]\n",
    "print(f\"Data points: {N} Independent Variables: {P}\")"
   ]
  },
  {
   "cell_type": "code",
   "execution_count": 167,
   "metadata": {},
   "outputs": [
    {
     "data": {
      "image/png": "[encoded data removed]",
      "text/plain": [
       "<Figure size 1440x360 with 6 Axes>"
      ]
     },
     "metadata": {
      "needs_background": "light"
     },
     "output_type": "display_data"
    },
    {
     "data": {
      "image/png": "[encoded data removed]",
      "text/plain": [
       "<Figure size 360x360 with 1 Axes>"
      ]
     },
     "metadata": {
      "needs_background": "light"
     },
     "output_type": "display_data"
    }
   ],
   "source": [
    "# Plot stats of independent variables\n",
    "plt.figure(figsize=(20,5))\n",
    "for index, column_name in enumerate(x_column_names):\n",
    "    plt.subplot(1, P, index+1)\n",
    "    plt.boxplot(X[:,index])\n",
    "    plt.xticks([1], [x_column_names[index]])\n",
    "plt.show()\n",
    "    \n",
    "# Plot stats of dependent variable\n",
    "plt.figure(figsize=(5,5))\n",
    "plt.boxplot(y, whis=True)\n",
    "plt.xticks([1], [y_column_name])\n",
    "plt.show()"
   ]
  },
  {
   "cell_type": "markdown",
   "metadata": {},
   "source": [
    "### 2.2 Ordinary least squares"
   ]
  },
  {
   "cell_type": "markdown",
   "metadata": {},
   "source": [
    "Reminder: The model of Multiple Linear Regression in matrix form is\n",
    "$$\n",
    "\\mathbf{y} = \\mathbf{X \\beta} + \\mathbf{\\epsilon}\n",
    "$$\n",
    "\n",
    "The estimates of the regression coefficients $\\mathbf{b}$ are obtained by calculating:\n",
    "$$\n",
    "\\mathbf{b} \n",
    "= (\\mathbf{X}^T \\mathbf{X})^{-1} \\mathbf{X}^T \\mathbf{y}\n",
    "$$"
   ]
  },
  {
   "cell_type": "code",
   "execution_count": 168,
   "metadata": {
    "tags": []
   },
   "outputs": [],
   "source": [
    "# Calculate normal equations\n",
    "def ols_mlr(X, y):\n",
    "    \"\"\"\n",
    "    X: data matrix (n rows, k columns)\n",
    "    y: dependent variable  (n rows, 1 column)\n",
    "    return: parameter vector w (k+1 rows, 1 column), predictions y_hat, difference y - y_hat\n",
    "    \"\"\"\n",
    "    N = X.shape[0]\n",
    "    \n",
    "    # Add column of constant 1 (for y-intercept w_0)\n",
    "    X = np.concatenate((np.ones((N, 1)), X), axis=1)\n",
    "\n",
    "    # Estimate parameter vector w = (X^T X)^-1 X^T y\n",
    "    w = np.dot(np.matmul(np.linalg.inv(np.matmul(X.transpose(), X)), X.transpose()), y)\n",
    "    \n",
    "    # Calculate y_hat_i = w^T x_i for all data points\n",
    "    y_hat = np.dot(X, w)\n",
    "        \n",
    "    # The point-wise difference between y and y_hat. We use it later to calculate different errors.\n",
    "    pdiff = (y - y_hat) \n",
    "\n",
    "    # we pass back the parameter vector, the predictions and the point-wise differences\n",
    "    return (w, y_hat, pdiff) "
   ]
  },
  {
   "cell_type": "code",
   "execution_count": 169,
   "metadata": {},
   "outputs": [],
   "source": [
    "#w, y_hat, pdiff, rss = ols_mlr(X, y)\n",
    "w, y_hat, pdiff = ols_mlr(X, y)"
   ]
  },
  {
   "cell_type": "markdown",
   "metadata": {},
   "source": [
    "### 2.3 Evaluate quality of the model"
   ]
  },
  {
   "cell_type": "markdown",
   "metadata": {},
   "source": [
    "#### 2.3.1 Error Measures"
   ]
  },
  {
   "cell_type": "code",
   "execution_count": 170,
   "metadata": {},
   "outputs": [
    {
     "name": "stdout",
     "output_type": "stream",
     "text": [
      "SS_tot: 23818.993\n",
      "SS_reg: 19275.646\n",
      "SS_res: 4543.347\n",
      "MSE: 11.590\n",
      "RMSE: 3.404\n",
      "MAE: 2.618\n"
     ]
    }
   ],
   "source": [
    "\"\"\" We use different error measures to assess the quality of the model. \"\"\"\n",
    "ss_total = lambda y : np.sum( (y - np.mean(y)) ** 2.)\n",
    "ss_reg = lambda y, y_hat : np.sum((y_hat - np.mean(y)) ** 2.)\n",
    "ss_res = lambda diff : np.sum(diff**2.)\n",
    "mse = lambda diff : np.mean(diff**2.)\n",
    "rmse = lambda diff : np.sqrt(mse(diff))\n",
    "mae = lambda diff : np.mean(np.abs(diff))\n",
    "mrae = lambda diff : np.mean(np.abs(diff)/y)\n",
    "print(\"SS_tot: %.3f\" % ss_total(y))       # total sum of squares\n",
    "print(\"SS_reg: %.3f\" % ss_reg(y, y_hat))  # explained sum of squares\n",
    "print(\"SS_res: %.3f\" % ss_res(pdiff))     # residual sum of squares\n",
    "print(\"MSE: %.3f\" % mse(pdiff))  # mean squared error (variance of error), aka \"average SS_res per data point\"\n",
    "print(\"RMSE: %.3f\" % rmse(pdiff)) # standard deviation of error\n",
    "print(\"MAE: %.3f\" % mae(pdiff)) # off by +- 2.6 on average"
   ]
  },
  {
   "cell_type": "markdown",
   "metadata": {},
   "source": [
    "#### 2.3.2 Graphically: $y_i$ vs $\\hat{y}_i$"
   ]
  },
  {
   "cell_type": "markdown",
   "metadata": {},
   "source": [
    "Let's inspect where our model is making mistakes. Print true values $y_i$ against $\\hat{y}_i$: "
   ]
  },
  {
   "cell_type": "code",
   "execution_count": 171,
   "metadata": {},
   "outputs": [
    {
     "data": {
      "image/png": "[encoded data removed]",
      "text/plain": [
       "<Figure size 432x432 with 1 Axes>"
      ]
     },
     "metadata": {
      "needs_background": "light"
     },
     "output_type": "display_data"
    }
   ],
   "source": [
    "plt.figure(figsize=(6, 6))\n",
    "plt.scatter(y, y_hat)\n",
    "plt.xlim([min(y), max(y)])\n",
    "plt.ylim([min(y), max(y)])\n",
    "plt.xlabel(f\"True value $y_i$ [{y_column_name}]\")\n",
    "plt.ylabel(\"Predicted value $\\hat{y}_i$ [%s]\" % y_column_name)\n",
    "plt.plot(np.linspace(10, 45, 100), np.linspace(10, 45, 100), 'r-')\n",
    "plt.show()\n",
    "# -> In the high mpg range, our model underestimates the true values"
   ]
  },
  {
   "cell_type": "markdown",
   "metadata": {},
   "source": [
    "### 2.3.3 Coefficient of Determination $r^2$"
   ]
  },
  {
   "cell_type": "markdown",
   "metadata": {},
   "source": [
    "The dependent variable $y$ has some intrinsic variability (see figure below). The error made by a very naive model that only predicts the mean $\\bar{y}$ independently of any variables $x$ is \"ss_total\".\n",
    "\n",
    "When we calculate $r^2$, we compare our model with this naive model.\n",
    "\n",
    "One part of the variability in $y$ can be explained by a linear combination of the independent variables (our model): \"ss_reg\". The remaining variability is due to some other randomness we don't know about: \"ss_res\". $r^2$ is the proportion of variability in the response variable y that is attributable to the linear relationship with the independent variables $x$.\n",
    "\n",
    "-> about $81 \\%$ of the variability in `mpg` can be explained by the linear relationship with $x$."
   ]
  },
  {
   "cell_type": "code",
   "execution_count": 172,
   "metadata": {},
   "outputs": [
    {
     "name": "stdout",
     "output_type": "stream",
     "text": [
      "r²: 0.809\n"
     ]
    },
    {
     "data": {
      "image/png": "[encoded data removed]",
      "text/plain": [
       "<Figure size 432x288 with 1 Axes>"
      ]
     },
     "metadata": {
      "needs_background": "light"
     },
     "output_type": "display_data"
    }
   ],
   "source": [
    "plt.figure()\n",
    "print(\"r²: %.3f\" % (1 -  ss_res(pdiff) / ss_total(y)))\n",
    "plt.boxplot(y, vert=True)\n",
    "plt.xticks([1], [f\"{y_column_name}\"])\n",
    "plt.show()"
   ]
  },
  {
   "cell_type": "markdown",
   "metadata": {},
   "source": [
    "## 2.4 Predict mpg for an arbitrary car"
   ]
  },
  {
   "cell_type": "code",
   "execution_count": 173,
   "metadata": {},
   "outputs": [],
   "source": [
    "def oracle(params, n_cylinder, displacement, horsepower, weight, acceleration, year): \n",
    "    \"\"\"\n",
    "    Predict mpg based on independent variables\n",
    "    \"\"\"\n",
    "    return np.dot(params.transpose(), [1, n_cylinder, displacement, horsepower, weight, acceleration, year])"
   ]
  },
  {
   "cell_type": "code",
   "execution_count": 174,
   "metadata": {},
   "outputs": [
    {
     "name": "stdout",
     "output_type": "stream",
     "text": [
      "Your car runs 23.40 miles per gallon!\n"
     ]
    }
   ],
   "source": [
    "predicted_mpg = oracle(w, 4, 150, 120, 3000, 15, 76)\n",
    "print(\"Your car runs %.2f miles per gallon!\" % predicted_mpg)"
   ]
  }
 ],
 "metadata": {
  "kernelspec": {
   "display_name": "Python 3.10.0 64-bit",
   "language": "python",
   "name": "python3"
  },
  "language_info": {
   "codemirror_mode": {
    "name": "ipython",
    "version": 3
   },
   "file_extension": ".py",
   "mimetype": "text/x-python",
   "name": "python",
   "nbconvert_exporter": "python",
   "pygments_lexer": "ipython3",
   "version": "3.10.0"
  },
  "vscode": {
   "interpreter": {
    "hash": "e2f04cf2f7544c889a1a0098c1cf78ced2c664ea38df0d27a9b899b5831aa2a5"
   }
  }
 },
 "nbformat": 4,
 "nbformat_minor": 4
}
