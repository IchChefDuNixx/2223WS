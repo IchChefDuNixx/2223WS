{
 "cells": [
  {
   "cell_type": "code",
   "execution_count": 2,
   "id": "50946a2f-b71f-424a-b6df-0ce91a520cc0",
   "metadata": {
    "pycharm": {
     "name": "#%%\n"
    }
   },
   "outputs": [],
   "source": [
    "import numpy as np"
   ]
  },
  {
   "cell_type": "code",
   "execution_count": 3,
   "id": "5975165f-8e3a-4607-8921-d23e352febad",
   "metadata": {
    "pycharm": {
     "name": "#%%\n"
    }
   },
   "outputs": [],
   "source": [
    "import matplotlib.pyplot as plt\n",
    "import seaborn as sns\n",
    "from matplotlib.colors import ListedColormap\n",
    "from sklearn import neighbors, datasets\n",
    "from sklearn.inspection import DecisionBoundaryDisplay"
   ]
  },
  {
   "cell_type": "code",
   "execution_count": 88,
   "id": "cc0aa91b-47e3-41a6-a45c-4503e32eae13",
   "metadata": {
    "pycharm": {
     "name": "#%%\n"
    }
   },
   "outputs": [],
   "source": [
    "# import some data to play with\n",
    "iris = datasets.load_iris()\n",
    "\n",
    "# Choose the first two dimensions as features - just for illustration\n",
    "X = iris.data[:, :2]\n",
    "y = iris.target\n",
    "\n",
    "indices = np.arange(len(X))\n",
    "np.random.shuffle(indices)\n",
    "train_indices = indices[:100]\n",
    "test_indices = indices[100:]\n",
    "X_train = X[train_indices]\n",
    "y_train = y[train_indices]\n",
    "X_test = X[test_indices]\n",
    "y_test = y[test_indices]"
   ]
  },
  {
   "cell_type": "markdown",
   "id": "c0cbc77a-e730-472d-911f-ddafcb3c0262",
   "metadata": {},
   "source": [
    "# Task 1: Implement a (1-)Nearest Neighbor Classifier"
   ]
  },
  {
   "cell_type": "code",
   "execution_count": 89,
   "id": "b723dc44-3163-4ac7-a195-cdb8110dd724",
   "metadata": {},
   "outputs": [],
   "source": [
    "from sklearn.base import BaseEstimator, ClassifierMixin\n",
    "from sklearn.utils.validation import check_X_y, check_array, check_is_fitted\n",
    "from sklearn.utils.multiclass import unique_labels\n",
    "from sklearn.metrics import euclidean_distances\n",
    "\n",
    "\n",
    "class NNClassifier(BaseEstimator, ClassifierMixin):\n",
    "    \n",
    "    def __init__(self, X_train, y_train):\n",
    "        \"\"\"\n",
    "        Initialize NN-Classifier with dataset\n",
    "        \"\"\"\n",
    "        \n",
    "        self.X_train = X_train\n",
    "        self.y_train = y_train\n",
    "        self._check_inputs()\n",
    "\n",
    "    def fit(self, X_train, y_train): \n",
    "        \"\"\"\n",
    "        Can be ignored\n",
    "        \"\"\"\n",
    "        \n",
    "        return self\n",
    "    \n",
    "    def predict(self, X):\n",
    "        \"\"\"\n",
    "        Predict class label of each data point (row) in the 2d-matrix X\n",
    "        \"\"\"\n",
    "        \n",
    "        predictions = []\n",
    "        \n",
    "        for i in range(len(X)):\n",
    "            predictions.append(self._classify(X[i]))\n",
    "            \n",
    "        return np.array(predictions)\n",
    "    \n",
    "    def _classify(self, query_point):\n",
    "        \"\"\"\n",
    "        Predict class label of a single data point (``query_point``) based on its neighbor\n",
    "        as given in ``self.X_train`` and ``self.y_train``\n",
    "        \"\"\"\n",
    "\n",
    "        N = len(self.X_train)\n",
    "        U = np.zeros(N)\n",
    "            \n",
    "        for i in range(N):\n",
    "            U[i] = self._distance(query_point, self.X_train[i])\n",
    "        \n",
    "        closest_neighbor = np.argmin(U)\n",
    "        \n",
    "        return self._getClassAtIndex(self.y_train, closest_neighbor)\n",
    "    \n",
    "    def _check_inputs(self):\n",
    "        assert self.X_train is not None, \"inputs missing\"\n",
    "        assert self.y_train is not None, \"outputs missing\"\n",
    "        assert len(self.X_train) == len(self.y_train), \"#inputs and #output inconsistent\"\n",
    "\n",
    "    def _getClassAtIndex(self, y, index):\n",
    "        return y[index]\n",
    "\n",
    "    def _distance(self, u, v):\n",
    "        return np.linalg.norm(u-v)\n",
    "    \n",
    "    def __sklearn_is_fitted__(self):\n",
    "        return True\n",
    "        "
   ]
  },
  {
   "cell_type": "code",
   "execution_count": 90,
   "id": "959dda3f-21c1-4186-865c-c6f71e8b1910",
   "metadata": {},
   "outputs": [
    {
     "data": {
      "text/plain": [
       "array([1, 0, 0, 2, 1, 0, 2, 2, 0, 2, 1, 2, 0, 2, 2, 1, 0, 2, 1, 0, 2, 0,\n",
       "       1, 0, 2, 0, 0, 0, 2, 0, 0, 1, 0, 1, 0, 1, 2, 1, 1, 2, 1, 1, 1, 2,\n",
       "       0, 2, 0, 1, 2, 2])"
      ]
     },
     "execution_count": 90,
     "metadata": {},
     "output_type": "execute_result"
    }
   ],
   "source": [
    "clf = NNClassifier(X_train, y_train)\n",
    "clf.predict(X_test)"
   ]
  },
  {
   "cell_type": "markdown",
   "id": "5c44397c-09d7-46c5-8850-68134d694e6e",
   "metadata": {
    "pycharm": {
     "name": "#%% md\n"
    }
   },
   "source": [
    "# Task 2: Implement a kNN-Classifier"
   ]
  },
  {
   "cell_type": "code",
   "execution_count": 91,
   "id": "d3ee78e8-fa18-486c-8af4-97ddf5403400",
   "metadata": {
    "pycharm": {
     "name": "#%%\n"
    }
   },
   "outputs": [],
   "source": [
    "from sklearn.base import BaseEstimator, ClassifierMixin\n",
    "from sklearn.utils.validation import check_X_y, check_array, check_is_fitted\n",
    "from sklearn.utils.multiclass import unique_labels\n",
    "from sklearn.metrics import euclidean_distances\n",
    "\n",
    "\n",
    "class kNNClassifier(BaseEstimator, ClassifierMixin):\n",
    "    \n",
    "    def __init__(self, X_train, y_train, k):\n",
    "        \"\"\"\n",
    "        Initialize kNN-Classifier with dataset and the number of neighbours ``k``\n",
    "        \"\"\"\n",
    "        \n",
    "        self.X_train = X_train\n",
    "        self.y_train = y_train\n",
    "        self.k = k\n",
    "        self._check_inputs()\n",
    "\n",
    "    def fit(self, X_train, y_train): \n",
    "        \"\"\"\n",
    "        Can be ignored\n",
    "        \"\"\"\n",
    "        \n",
    "        return self\n",
    "    \n",
    "    def predict(self, X):\n",
    "        \"\"\"\n",
    "        Predict class label of each data point (row) in the 2d-matrix X\n",
    "        \"\"\"\n",
    "        \n",
    "        predictions = []\n",
    "        \n",
    "        for i in range(len(X)):\n",
    "            predictions.append(self._classify(X[i], self.k))\n",
    "            \n",
    "        return np.array(predictions)\n",
    "        \n",
    "    \n",
    "    def _classify(self, query_point, k):\n",
    "        \"\"\"\n",
    "        Predict class label of a single data point (``query_point``) based on its ``k`` nearest neighbours\n",
    "        as given in ``self.X_train`` and ``self.y_train``\n",
    "        \"\"\"\n",
    "\n",
    "        N = len(self.X_train)\n",
    "        dists = np.zeros(N)\n",
    "        \n",
    "        for i in range(N):\n",
    "            dists[i] = self._distance(query_point, self.X_train[i])\n",
    "        \n",
    "        sorted_indices = np.argsort(dists)\n",
    "        \n",
    "        closest_k_indices = sorted_indices[:k]\n",
    "        \n",
    "        k_nearest_labels = self.y_train[closest_k_indices]\n",
    "        \n",
    "        labels, label_counts = np.unique(k_nearest_labels, return_counts=True)\n",
    "        \n",
    "        return labels[np.argmax(label_counts)]\n",
    "        \n",
    "    \n",
    "    def _check_inputs(self):\n",
    "        assert self.X_train is not None, \"inputs missing\"\n",
    "        assert self.y_train is not None, \"outputs missing\"\n",
    "        assert len(self.X_train) == len(self.y_train), \"#inputs and #output inconsistent\"\n",
    "\n",
    "    def _getClassAtIndex(self, y, index):\n",
    "        return y[index]\n",
    "\n",
    "    def _distance(self, u, v):\n",
    "        return np.linalg.norm(u-v)\n",
    "    \n",
    "    def __sklearn_is_fitted__(self):\n",
    "        return True\n",
    "        "
   ]
  },
  {
   "cell_type": "code",
   "execution_count": 137,
   "id": "b064de78-e20e-4f58-a38e-53492ee93e57",
   "metadata": {
    "pycharm": {
     "name": "#%%\n"
    }
   },
   "outputs": [],
   "source": [
    "\n",
    "clf = NNClassifier(X_train, y_train)\n",
    "y_hat = clf.predict(X_test)\n",
    "k = 10\n",
    "#clf = kNNClassifier(X_train, y_train, k=k)\n",
    "#y_hat = clf.predict(X_test)\n"
   ]
  },
  {
   "cell_type": "markdown",
   "id": "45ad1ede-d5b2-4683-a1d8-4a0437e0451e",
   "metadata": {
    "pycharm": {
     "name": "#%% md\n"
    }
   },
   "source": [
    "# Plot decision boundary of classifier"
   ]
  },
  {
   "cell_type": "code",
   "execution_count": 138,
   "id": "0c8fba31-240b-4618-acde-9decdad4caaa",
   "metadata": {
    "pycharm": {
     "name": "#%%\n"
    },
    "tags": []
   },
   "outputs": [
    {
     "data": {
      "text/plain": [
       "Text(0.5, 1.0, '3-Class classification (k = 10)')"
      ]
     },
     "execution_count": 138,
     "metadata": {},
     "output_type": "execute_result"
    },
    {
     "data": {
      "image/png": "[encoded data removed]",
      "text/plain": [
       "<Figure size 640x480 with 1 Axes>"
      ]
     },
     "metadata": {},
     "output_type": "display_data"
    }
   ],
   "source": [
    "# See https://scikit-learn.org/stable/auto_examples/neighbors/plot_classification.html#sphx-glr-auto-examples-neighbors-plot-classification-py\n",
    "# for visualization code\n",
    "\n",
    "# Create color maps\n",
    "cmap_light = ListedColormap([\"orange\", \"cyan\", \"cornflowerblue\"])\n",
    "cmap_bold = [\"darkorange\", \"c\", \"darkblue\"]\n",
    "\n",
    "edge_colors = np.array([\"red\", \"black\"])\n",
    "matches = np.array(np.array(y_hat) == np.array(y_test), dtype=int)\n",
    "match_colors = edge_colors[matches]\n",
    "\n",
    "\n",
    "# Plot decision boundary\n",
    "_, ax = plt.subplots()\n",
    "\n",
    "DecisionBoundaryDisplay.from_estimator(\n",
    "    clf,\n",
    "    X_train,\n",
    "    cmap=cmap_light,\n",
    "    ax=ax,\n",
    "    response_method=\"predict\",\n",
    "    plot_method=\"pcolormesh\",\n",
    "    xlabel=iris.feature_names[0],\n",
    "    ylabel=iris.feature_names[1],\n",
    "    shading=\"auto\",\n",
    ")\n",
    "\n",
    "# Plot also the test points\n",
    "# The area's color reveals what the classifier would predict in the area\n",
    "# The point's color reveals the test point's true label\n",
    "scatterplot = sns.scatterplot(\n",
    "    x=X_test[:, 0],\n",
    "    y=X_test[:, 1],\n",
    "    hue=y_test,\n",
    "    palette=cmap_bold,\n",
    "    alpha=1.0,\n",
    "    edgecolor=match_colors\n",
    ")\n",
    "h, l = ax.get_legend_handles_labels()\n",
    "ax.legend(h, iris.target_names, title=\"Flower Types\")\n",
    "\n",
    "plt.title(\"3-Class classification (k = %i)\" % (k))"
   ]
  }
 ],
 "metadata": {
  "kernelspec": {
   "display_name": "Python 3 (ipykernel)",
   "language": "python",
   "name": "python3"
  },
  "language_info": {
   "codemirror_mode": {
    "name": "ipython",
    "version": 3
   },
   "file_extension": ".py",
   "mimetype": "text/x-python",
   "name": "python",
   "nbconvert_exporter": "python",
   "pygments_lexer": "ipython3",
   "version": "3.8.9"
  }
 },
 "nbformat": 4,
 "nbformat_minor": 5
}
