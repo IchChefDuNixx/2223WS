{
 "cells": [
  {
   "cell_type": "code",
   "execution_count": 23,
   "id": "50946a2f-b71f-424a-b6df-0ce91a520cc0",
   "metadata": {
    "pycharm": {
     "name": "#%%\n"
    }
   },
   "outputs": [],
   "source": [
    "import numpy as np"
   ]
  },
  {
   "cell_type": "code",
   "execution_count": 24,
   "id": "5975165f-8e3a-4607-8921-d23e352febad",
   "metadata": {
    "pycharm": {
     "name": "#%%\n"
    }
   },
   "outputs": [],
   "source": [
    "import matplotlib.pyplot as plt\n",
    "import seaborn as sns\n",
    "from matplotlib.colors import ListedColormap\n",
    "from sklearn import neighbors, datasets\n",
    "#from sklearn.inspection import DecisionBoundaryDisplay"
   ]
  },
  {
   "cell_type": "code",
   "execution_count": 25,
   "id": "cc0aa91b-47e3-41a6-a45c-4503e32eae13",
   "metadata": {
    "pycharm": {
     "name": "#%%\n"
    }
   },
   "outputs": [],
   "source": [
    "# import some data to play with\n",
    "iris = datasets.load_iris()\n",
    "\n",
    "# Choose the first two dimensions as features - just for illustration\n",
    "X = iris.data[:, :2]\n",
    "Y = iris.target"
   ]
  },
  {
   "cell_type": "markdown",
   "id": "c0cbc77a-e730-472d-911f-ddafcb3c0262",
   "metadata": {},
   "source": [
    "# Task 1: Implement a (1-)Nearest Neighbor Classifier"
   ]
  },
  {
   "cell_type": "code",
   "execution_count": 26,
   "id": "b723dc44-3163-4ac7-a195-cdb8110dd724",
   "metadata": {},
   "outputs": [],
   "source": [
    "from sklearn.base import BaseEstimator, ClassifierMixin\n",
    "from sklearn.utils.validation import check_X_y, check_array, check_is_fitted\n",
    "from sklearn.utils.multiclass import unique_labels\n",
    "from sklearn.metrics import euclidean_distances\n",
    "\n",
    "\n",
    "class NNClassifier(BaseEstimator, ClassifierMixin):\n",
    "    \n",
    "    def __init__(self, X_train, y_train):\n",
    "        \"\"\"\n",
    "        Initialize NN-Classifier with dataset\n",
    "        \"\"\"\n",
    "        \n",
    "        self.X_train = X_train\n",
    "        self.y_train = y_train\n",
    "        self._check_inputs()\n",
    "\n",
    "    def fit(self, X_train, y_train): \n",
    "        \"\"\"\n",
    "        Can be ignored\n",
    "        \"\"\"\n",
    "        \n",
    "        return self\n",
    "    \n",
    "    def predict(self, X):\n",
    "        \"\"\"\n",
    "        Predict class label of each data point (row) in the 2d-matrix X\n",
    "        \"\"\"\n",
    "        \n",
    "        predictions = []\n",
    "        \n",
    "        for i in range(len(X)):\n",
    "            predictions.append(self._classify(X[i]))\n",
    "        \n",
    "        return np.array(predictions)\n",
    "    \n",
    "    def _classify(self, query_point):\n",
    "        \"\"\"\n",
    "        Predict class label of a single data point (``query_point``) based on its neighbor\n",
    "        as given in ``self.X_train`` and ``self.y_train``\n",
    "        \"\"\"\n",
    "\n",
    "        N = len(self.X_train)\n",
    "        U = np.zeros(N)\n",
    "\n",
    "        # TODO\n",
    "        for i,x in enumerate(self.X_train): # -> i = 0, x = [(5,2), (5,3)]\n",
    "            U[i] = self._distance(query_point, x)\n",
    "            \n",
    "        return self.y_train[np.argmin(U)]\n",
    "    \n",
    "    def _check_inputs(self):\n",
    "        assert self.X_train is not None, \"inputs missing\"\n",
    "        assert self.y_train is not None, \"outputs missing\"\n",
    "        assert len(self.X_train) == len(self.y_train), \"#inputs and #output inconsistent\"\n",
    "\n",
    "    def _getClassAtIndex(self, y, index):\n",
    "        return y[index]\n",
    "\n",
    "    def _distance(self, u, v):\n",
    "        return np.linalg.norm(u-v)\n",
    "    \n",
    "    def __sklearn_is_fitted__(self):\n",
    "        return True\n",
    "        "
   ]
  },
  {
   "cell_type": "markdown",
   "id": "5c44397c-09d7-46c5-8850-68134d694e6e",
   "metadata": {
    "pycharm": {
     "name": "#%% md\n"
    }
   },
   "source": [
    "# Task 2: Implement a kNN-Classifier"
   ]
  },
  {
   "cell_type": "code",
   "execution_count": 27,
   "id": "d3ee78e8-fa18-486c-8af4-97ddf5403400",
   "metadata": {
    "pycharm": {
     "name": "#%%\n"
    }
   },
   "outputs": [],
   "source": [
    "from numpy import argmax\n",
    "from sklearn.base import BaseEstimator, ClassifierMixin\n",
    "from sklearn.utils.validation import check_X_y, check_array, check_is_fitted\n",
    "from sklearn.utils.multiclass import unique_labels\n",
    "from sklearn.metrics import euclidean_distances\n",
    "\n",
    "\n",
    "class kNNClassifier(BaseEstimator, ClassifierMixin):\n",
    "    \n",
    "    def __init__(self, X_train, Y_train, k):\n",
    "        \"\"\"\n",
    "        Initialize kNN-Classifier with dataset and the number of neighbours ``k``\n",
    "        \"\"\"\n",
    "        \n",
    "        self.X_train = X_train\n",
    "        self.y_train = Y_train\n",
    "        self.X_test = np.concatenate((X_train[:10], X_train[60:70], X_train[140:150]))\n",
    "        self.Y_test = np.concatenate((Y_train[:10], Y_train[60:70], Y_train[140:150]))\n",
    "        self.k = k\n",
    "        self._check_inputs()\n",
    "        colors = [\"tan\", \"palegreen\", \"wheat\"]\n",
    "        for i,classs in enumerate(self.y_train):\n",
    "            plt.scatter(self.X_train[i,0], self.X_train[i, 1], color=colors[classs])\n",
    "\n",
    "        #plt.scatter(self.X_test[:, 0], self.X_test[:, 1], c=\"red\")\n",
    "\n",
    "    def fit(self, X_train, y_train): \n",
    "        \"\"\"\n",
    "        Can be ignored\n",
    "        \"\"\"\n",
    "        \n",
    "        return self\n",
    "    \n",
    "    def predict(self, X):\n",
    "        \"\"\"\n",
    "        Predict class label of each data point (row) in the 2d-matrix X\n",
    "        \"\"\"\n",
    "        \n",
    "        # TODO\n",
    "        \n",
    "        predictions = []\n",
    "        \n",
    "        for x in self.X_test: # 30\n",
    "            predictions.append(self._classify(x, self.k))\n",
    "\n",
    "        return np.array(predictions)\n",
    "    \n",
    "    def _classify(self, query_point, k):\n",
    "        \"\"\"\n",
    "        Predict class label of a single data point (``query_point``) based on its ``k`` nearest neighbours\n",
    "        as given in ``self.X_train`` and ``self.y_train``\n",
    "        \"\"\"\n",
    "        \n",
    "        # TODO\n",
    "        \n",
    "        N = len(self.X_train) # 150\n",
    "        U = np.zeros((N,2)) # (150,2)\n",
    "         \n",
    "        for i,x in enumerate(self.X_train):\n",
    "            U[i] = (self._distance(query_point, x),self.y_train[i])\n",
    "            \n",
    "        U = sorted(U, key=lambda x: x[0])\n",
    "        U = np.array(U)[:self.k, 1]\n",
    "        \n",
    "        a = np.unique(U, return_counts=True)\n",
    "        result = a[0][argmax(a[1])]\n",
    "        plt.scatter(query_point[0],query_point[1],c=\"red\")\n",
    "        plt.annotate(str(int(result)), (query_point[0],query_point[1]))\n",
    "        return result\n",
    "    \n",
    "    def _check_inputs(self):\n",
    "        assert self.X_train is not None, \"inputs missing\"\n",
    "        assert self.y_train is not None, \"outputs missing\"\n",
    "        assert len(self.X_train) == len(self.y_train), \"#inputs and #output inconsistent\"\n",
    "\n",
    "    def _getClassAtIndex(self, y, index):\n",
    "        return y[index]\n",
    "\n",
    "    def _distance(self, u, v):\n",
    "        return np.linalg.norm(u-v)\n",
    "    \n",
    "    def __sklearn_is_fitted__(self):\n",
    "        return True\n",
    "        "
   ]
  },
  {
   "cell_type": "code",
   "execution_count": 28,
   "id": "b064de78-e20e-4f58-a38e-53492ee93e57",
   "metadata": {
    "pycharm": {
     "name": "#%%\n"
    }
   },
   "outputs": [
    {
     "data": {
      "text/plain": [
       "array([0., 0., 0., 0., 0., 0., 0., 0., 0., 0., 1., 1., 1., 1., 1., 2., 1.,\n",
       "       1., 2., 1., 2., 2., 1., 2., 2., 2., 2., 2., 2., 1.])"
      ]
     },
     "execution_count": 28,
     "metadata": {},
     "output_type": "execute_result"
    },
    {
     "data": {
      "image/png": "[encoded data removed]",
      "text/plain": [
       "<Figure size 432x288 with 1 Axes>"
      ]
     },
     "metadata": {
      "needs_background": "light"
     },
     "output_type": "display_data"
    }
   ],
   "source": [
    "k = 15\n",
    "#clf = NNClassifier(X, Y)\n",
    "clf = kNNClassifier(X, Y, k=k)\n",
    "y_hat = clf.predict(X)\n",
    "y_hat"
   ]
  },
  {
   "cell_type": "markdown",
   "id": "45ad1ede-d5b2-4683-a1d8-4a0437e0451e",
   "metadata": {
    "pycharm": {
     "name": "#%% md\n"
    }
   },
   "source": [
    "# Plot decision boundary of classifier"
   ]
  },
  {
   "cell_type": "code",
   "execution_count": 29,
   "id": "0c8fba31-240b-4618-acde-9decdad4caaa",
   "metadata": {
    "pycharm": {
     "name": "#%%\n"
    }
   },
   "outputs": [
    {
     "data": {
      "text/plain": [
       "'\\n# See https://scikit-learn.org/stable/auto_examples/neighbors/plot_classification.html#sphx-glr-auto-examples-neighbors-plot-classification-py\\n# for visualization code\\n\\n# Create color maps\\ncmap_light = ListedColormap([\"orange\", \"cyan\", \"cornflowerblue\"])\\ncmap_bold = [\"darkorange\", \"c\", \"darkblue\"]\\n\\n# Plot decision boundary\\n_, ax = plt.subplots()\\nDecisionBoundaryDisplay.from_estimator(\\n    clf,\\n    X,\\n    cmap=cmap_light,\\n    ax=ax,\\n    response_method=\"predict\",\\n    plot_method=\"pcolormesh\",\\n    xlabel=iris.feature_names[0],\\n    ylabel=iris.feature_names[1],\\n    shading=\"auto\",\\n)\\n\\n# Plot also the training points\\nsns.scatterplot(\\n    x=X[:, 0],\\n    y=X[:, 1],\\n    hue=iris.target_names[y],\\n    palette=cmap_bold,\\n    alpha=1.0,\\n    edgecolor=\"black\",\\n)\\nplt.title(\"3-Class classification (k = %i)\" % (k))\\n'"
      ]
     },
     "execution_count": 29,
     "metadata": {},
     "output_type": "execute_result"
    }
   ],
   "source": [
    "\"\"\"\n",
    "# See https://scikit-learn.org/stable/auto_examples/neighbors/plot_classification.html#sphx-glr-auto-examples-neighbors-plot-classification-py\n",
    "# for visualization code\n",
    "\n",
    "# Create color maps\n",
    "cmap_light = ListedColormap([\"orange\", \"cyan\", \"cornflowerblue\"])\n",
    "cmap_bold = [\"darkorange\", \"c\", \"darkblue\"]\n",
    "\n",
    "# Plot decision boundary\n",
    "_, ax = plt.subplots()\n",
    "DecisionBoundaryDisplay.from_estimator(\n",
    "    clf,\n",
    "    X,\n",
    "    cmap=cmap_light,\n",
    "    ax=ax,\n",
    "    response_method=\"predict\",\n",
    "    plot_method=\"pcolormesh\",\n",
    "    xlabel=iris.feature_names[0],\n",
    "    ylabel=iris.feature_names[1],\n",
    "    shading=\"auto\",\n",
    ")\n",
    "\n",
    "# Plot also the training points\n",
    "sns.scatterplot(\n",
    "    x=X[:, 0],\n",
    "    y=X[:, 1],\n",
    "    hue=iris.target_names[y],\n",
    "    palette=cmap_bold,\n",
    "    alpha=1.0,\n",
    "    edgecolor=\"black\",\n",
    ")\n",
    "plt.title(\"3-Class classification (k = %i)\" % (k))\n",
    "\"\"\""
   ]
  }
 ],
 "metadata": {
  "kernelspec": {
   "display_name": "Python 3.10.0 64-bit",
   "language": "python",
   "name": "python3"
  },
  "language_info": {
   "codemirror_mode": {
    "name": "ipython",
    "version": 3
   },
   "file_extension": ".py",
   "mimetype": "text/x-python",
   "name": "python",
   "nbconvert_exporter": "python",
   "pygments_lexer": "ipython3",
   "version": "3.10.0"
  },
  "vscode": {
   "interpreter": {
    "hash": "e2f04cf2f7544c889a1a0098c1cf78ced2c664ea38df0d27a9b899b5831aa2a5"
   }
  }
 },
 "nbformat": 4,
 "nbformat_minor": 5
}
