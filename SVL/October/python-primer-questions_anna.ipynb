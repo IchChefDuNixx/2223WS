{
 "cells": [
  {
   "cell_type": "markdown",
   "metadata": {},
   "source": [
    "# SVL 00 - Python Primer"
   ]
  },
  {
   "cell_type": "code",
   "execution_count": 47,
   "metadata": {},
   "outputs": [],
   "source": [
    "import numpy as np"
   ]
  },
  {
   "cell_type": "markdown",
   "metadata": {},
   "source": [
    "## Task 1\n",
    "\n",
    "Implement a function that creates a dictionary with the following words as keys and each word's length as the key's value:"
   ]
  },
  {
   "cell_type": "code",
   "execution_count": 48,
   "metadata": {},
   "outputs": [],
   "source": [
    "words = \"Implement a function that creates a dictionary with the following words as keys and each word's length as the key's value\""
   ]
  },
  {
   "cell_type": "code",
   "execution_count": 49,
   "metadata": {},
   "outputs": [
    {
     "data": {
      "text/plain": [
       "{'Implement': 9,\n",
       " 'a': 1,\n",
       " 'function': 8,\n",
       " 'that': 4,\n",
       " 'creates': 7,\n",
       " 'dictionary': 10,\n",
       " 'with': 4,\n",
       " 'the': 3,\n",
       " 'following': 9,\n",
       " 'words': 5,\n",
       " 'as': 2,\n",
       " 'keys': 4,\n",
       " 'and': 3,\n",
       " 'each': 4,\n",
       " \"word's\": 6,\n",
       " 'length': 6,\n",
       " \"key's\": 5,\n",
       " 'value': 5}"
      ]
     },
     "execution_count": 49,
     "metadata": {},
     "output_type": "execute_result"
    }
   ],
   "source": [
    "def func(words):\n",
    "    D = {}\n",
    "    #TODO\n",
    "    for word in words.split():\n",
    "        D[word] = len(word)\n",
    "        \n",
    "    # or shorter:   \n",
    "    # D = {w : len(w) for w in words.split()}\n",
    "    \n",
    "    return D\n",
    "\n",
    "func(words)"
   ]
  },
  {
   "cell_type": "markdown",
   "metadata": {},
   "source": [
    "# Task 2\n",
    "\n",
    "Implement a function that computes the Precision and Recall from the following confusion matrix:"
   ]
  },
  {
   "cell_type": "code",
   "execution_count": 50,
   "metadata": {},
   "outputs": [],
   "source": [
    "C = np.array([[97, 29],[3, 71]]) \n",
    "# Assume: \n",
    "# rows = predicted classes (row0=positive,row1=negative), \n",
    "# cols = true classes (col0=positive, col1=negative)"
   ]
  },
  {
   "cell_type": "code",
   "execution_count": 51,
   "metadata": {},
   "outputs": [
    {
     "data": {
      "text/plain": [
       "(0.7698412698412699, 0.97)"
      ]
     },
     "execution_count": 51,
     "metadata": {},
     "output_type": "execute_result"
    }
   ],
   "source": [
    "def precision_recall(conf_mat):\n",
    "    prec = conf_mat[0,0]/conf_mat[0,:].sum()\n",
    "    reca = conf_mat[0,0]/conf_mat[:,0].sum()\n",
    "    \n",
    "    #TODO\n",
    "    \n",
    "    return prec, reca\n",
    "\n",
    "precision_recall(C)"
   ]
  },
  {
   "cell_type": "markdown",
   "metadata": {},
   "source": [
    "# Task 3\n",
    "\n",
    "Implement the inner product for two matrices $$C^{(k, n)} = A^{(k, m)} * B^{(m, n)}$$ without using numpy:"
   ]
  },
  {
   "cell_type": "code",
   "execution_count": 52,
   "metadata": {},
   "outputs": [],
   "source": [
    "A = np.array([\n",
    "     [3, 4, 1], \n",
    "     [7, -1, 2]\n",
    "    ])\n",
    "B = np.array([\n",
    "     [-1, 2],\n",
    "     [7, -2], \n",
    "     [0, 3]\n",
    "    ])"
   ]
  },
  {
   "cell_type": "code",
   "execution_count": 53,
   "metadata": {},
   "outputs": [
    {
     "data": {
      "text/plain": [
       "array([[ 25.,   1.],\n",
       "       [-14.,  22.]])"
      ]
     },
     "execution_count": 53,
     "metadata": {},
     "output_type": "execute_result"
    }
   ],
   "source": [
    "def matmul(A, B):\n",
    "    \n",
    "    # TODO\n",
    "    K = len(A)\n",
    "    M = len(A[0])\n",
    "    N = len(B[0])\n",
    "    \n",
    "    C = np.zeros((K,K))\n",
    "    \n",
    "    for k in range(K):\n",
    "        for n in range(N):\n",
    "            for m in range(M):\n",
    "                C[k,n] += A[k,m] * B[m,n]\n",
    "    \n",
    "    return C\n",
    "\n",
    "matmul(A, B)"
   ]
  },
  {
   "cell_type": "markdown",
   "metadata": {},
   "source": [
    "# Task 4\n",
    "\n",
    "Implement the skeleton of a class 'MyEstimator'. The purpose of the class is to wrap the functionality of an arbitrary supervised learning algorithm. It needs to provide the following interface:\n",
    "- The constructor must accept a variable number of key-value arguments\n",
    "- The class must provide a 'fit' method, that accepts a numpy ndarray type named 'X' and another numpy ndarray type named 'y'. The method must return the object it was called on.\n",
    "- The class must provide a 'predict' method, that accepts a numpy ndarray type named 'X'."
   ]
  },
  {
   "cell_type": "code",
   "execution_count": 54,
   "metadata": {},
   "outputs": [
    {
     "name": "stdout",
     "output_type": "stream",
     "text": [
      "{'hi': 'hi', 'bye': 'bye'}\n",
      "[[ 3  4  1]\n",
      " [ 7 -1  2]]\n"
     ]
    }
   ],
   "source": [
    "class MyEstimator:\n",
    "    def __init__(self, **kwargs):  ##arbitrary number of \"key-value arguments\", stored in dictionary\n",
    "        self._params = kwargs      ## \"_params\" is the name of the dictionary/ attribute\n",
    "        print(kwargs)\n",
    "        \n",
    "    def fit(self, X : np.ndarray, Y : np.ndarray):  ##arg:type, specifies accepted type of the parameter (but won´t throw error!)\n",
    "        return self\n",
    "    \n",
    "    def predict(self, X : np.ndarray):\n",
    "        print(X)\n",
    "    \n",
    "m  = MyEstimator(hi = \"hi\", bye = \"bye\")\n",
    "m.predict(A)"
   ]
  },
  {
   "cell_type": "markdown",
   "metadata": {},
   "source": [
    "# Task 5: LMS algorithm"
   ]
  },
  {
   "cell_type": "code",
   "execution_count": 55,
   "metadata": {},
   "outputs": [],
   "source": [
    "import matplotlib.pyplot as plt"
   ]
  },
  {
   "cell_type": "code",
   "execution_count": 56,
   "metadata": {},
   "outputs": [
    {
     "data": {
      "text/plain": [
       "[<matplotlib.lines.Line2D at 0x257e3b5a438>]"
      ]
     },
     "execution_count": 56,
     "metadata": {},
     "output_type": "execute_result"
    },
    {
     "data": {
      "image/png": "[encoded data removed]",
      "text/plain": [
       "<Figure size 432x288 with 1 Axes>"
      ]
     },
     "metadata": {
      "needs_background": "light"
     },
     "output_type": "display_data"
    }
   ],
   "source": [
    "# Dataset\n",
    "N = 1000\n",
    "x = np.linspace(0, 1, N)\n",
    "y = 4 + 3 * x + np.random.normal(0, 0.2, N)\n",
    "D = [(x[i], y[i]) for i in range(N)]\n",
    "plt.plot(x, y)"
   ]
  },
  {
   "cell_type": "code",
   "execution_count": 66,
   "metadata": {},
   "outputs": [],
   "source": [
    "def lms(dataset, eta, my, iter):\n",
    "    w0, w1 = np.random.normal(0, 0.1, 2)\n",
    "    \n",
    "    W = np.array([w0, w1])\n",
    "    X = np.array([[1,d[0]] for d in dataset])\n",
    "    Y = np.array([d[1] for d in dataset])\n",
    "    \n",
    "    iteration = 0\n",
    "    \n",
    "    # TODO: algorithm\n",
    "\n",
    "    while(iteration < iter):\n",
    "        iteration += 1\n",
    "       \n",
    "        ##go through dataset and adjust weights afeter each point\n",
    "        \n",
    "        for i in range(len(dataset)):\n",
    "            y = X[i] @ W   ##np.matmul(X[i],W)\n",
    "            error = Y[i] - y\n",
    "            W = W + 2*my*error*X[i]\n",
    "        \n",
    "        ##check the mean squared error\n",
    "        \n",
    "        squared_error = 0\n",
    "        \n",
    "        for i in range(len(dataset)):\n",
    "            y = X[i] @ W   \n",
    "            squared_error += (Y[i] - y)**2\n",
    "            \n",
    "        MSE = squared_error / len(dataset)\n",
    "        \n",
    "        print(iteration,\". MSE: \", MSE)\n",
    "        \n",
    "        ##stop if MSE is small enough\n",
    "        \n",
    "        if(MSE < eta):\n",
    "            break\n",
    "    \n",
    "    w0 = W[0]\n",
    "    w1 = W[1]\n",
    "    \n",
    "    return w0, w1        "
   ]
  },
  {
   "cell_type": "code",
   "execution_count": 67,
   "metadata": {},
   "outputs": [
    {
     "name": "stdout",
     "output_type": "stream",
     "text": [
      "1 . MSE:  1.3528445749355051\n",
      "2 . MSE:  0.7383519188812852\n",
      "3 . MSE:  0.4107746337653416\n",
      "4 . MSE:  0.2363188355351186\n",
      "5 . MSE:  0.1435353326618259\n",
      "6 . MSE:  0.0942808233947359\n"
     ]
    }
   ],
   "source": [
    "w0, w1 = lms(D, 0.1, 0.01 , 100)"
   ]
  },
  {
   "cell_type": "code",
   "execution_count": 68,
   "metadata": {},
   "outputs": [
    {
     "data": {
      "text/plain": [
       "[<matplotlib.lines.Line2D at 0x257e3abca90>]"
      ]
     },
     "execution_count": 68,
     "metadata": {},
     "output_type": "execute_result"
    },
    {
     "data": {
      "image/png": "[encoded data removed]",
      "text/plain": [
       "<Figure size 432x288 with 1 Axes>"
      ]
     },
     "metadata": {
      "needs_background": "light"
     },
     "output_type": "display_data"
    }
   ],
   "source": [
    "plt.plot(x, y)\n",
    "plt.plot(x, w0 + x * w1)"
   ]
  },
  {
   "cell_type": "code",
   "execution_count": null,
   "metadata": {},
   "outputs": [],
   "source": []
  }
 ],
 "metadata": {
  "kernelspec": {
   "display_name": "Python 3",
   "language": "python",
   "name": "python3"
  },
  "language_info": {
   "codemirror_mode": {
    "name": "ipython",
    "version": 3
   },
   "file_extension": ".py",
   "mimetype": "text/x-python",
   "name": "python",
   "nbconvert_exporter": "python",
   "pygments_lexer": "ipython3",
   "version": "3.7.1"
  }
 },
 "nbformat": 4,
 "nbformat_minor": 5
}
