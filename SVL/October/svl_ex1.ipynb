{
 "cells": [
  {
   "cell_type": "code",
   "execution_count": null,
   "metadata": {},
   "outputs": [],
   "source": [
    "\n",
    "1a finding the mapping between x and y (in, out)\n",
    "b finding patterns in data (eg yt recos)\n",
    "c exploration/exploitation, rewarding good behaviour, punishing bad behaviour, sits between environment and agent\n",
    "\n",
    "2a measuring and placing objects into the feature space\n",
    "b choice of hypothesis class of real world problem\n",
    "c updating parameters in model function\n",
    "\n",
    "3a choice of hypothesis space, data acquisition, feature subset selection, optimization procedure, performance measure\n",
    "b predicting a random number. genereally hard when there is no pattern\n",
    "c a higher bias results in a stronger resilience to outliers. modeling higher dimension models increases the variance\n",
    "there is a sweet spot between bias and variance. going to an extreme is bad\n",
    "d there doesn't exist a function that works best for everything. mulitple problems may require different solutions\n",
    "e see c\n",
    "f linear/high dimensional graph"
   ]
  }
 ],
 "metadata": {
  "kernelspec": {
   "display_name": "Python 3.9.12 ('base')",
   "language": "python",
   "name": "python3"
  },
  "language_info": {
   "name": "python",
   "version": "3.9.12"
  },
  "orig_nbformat": 4,
  "vscode": {
   "interpreter": {
    "hash": "3017eed01e41510f2e4758f02a5c4b458edd512c2a48ee2ef97492bf17f5a7a1"
   }
  }
 },
 "nbformat": 4,
 "nbformat_minor": 2
}
