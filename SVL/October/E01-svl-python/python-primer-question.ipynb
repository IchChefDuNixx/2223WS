{
 "cells": [
  {
   "cell_type": "markdown",
   "id": "18daba68-176e-441f-9871-bc64830fa0e3",
   "metadata": {
    "pycharm": {
     "name": "#%% md\n"
    }
   },
   "source": [
    "# SVL 01 - Python Primer"
   ]
  },
  {
   "cell_type": "code",
   "execution_count": 60,
   "id": "32a055e6-43f1-4f45-b8b5-87fa9f9c7336",
   "metadata": {
    "pycharm": {
     "name": "#%%\n"
    }
   },
   "outputs": [],
   "source": [
    "import numpy"
   ]
  },
  {
   "cell_type": "markdown",
   "id": "0c0873f0-32dc-464e-bd2c-7231a012a440",
   "metadata": {
    "pycharm": {
     "name": "#%% md\n"
    }
   },
   "source": [
    "## Task 1\n",
    "\n",
    "Implement a function that accepts a number $n$ and returns $\\sum_{i=1}^n i$."
   ]
  },
  {
   "cell_type": "code",
   "execution_count": 61,
   "id": "677d0f06-8b77-4d40-9a72-63ae509cc269",
   "metadata": {
    "pycharm": {
     "name": "#%%\n"
    }
   },
   "outputs": [
    {
     "data": {
      "text/plain": [
       "10"
      ]
     },
     "execution_count": 61,
     "metadata": {},
     "output_type": "execute_result"
    }
   ],
   "source": [
    "def func(n):\n",
    "    res = 0\n",
    "    i = 0\n",
    "    while i <= n:\n",
    "        res += i\n",
    "        i += 1\n",
    "    return res\n",
    "func(4)"
   ]
  },
  {
   "cell_type": "markdown",
   "id": "4ebb3535-6590-43f7-b005-61e19e37b730",
   "metadata": {
    "pycharm": {
     "name": "#%% md\n"
    }
   },
   "source": [
    "# Task 2\n",
    "\n",
    "Given two dictionaries, merge (with replacement) the key-value pairs from the second dictionary into the first dictionary."
   ]
  },
  {
   "cell_type": "code",
   "execution_count": 62,
   "id": "5de154e9-259e-4373-96e4-8568a6db3a0f",
   "metadata": {
    "pycharm": {
     "name": "#%%\n"
    }
   },
   "outputs": [
    {
     "name": "stdout",
     "output_type": "stream",
     "text": [
      "True\n"
     ]
    }
   ],
   "source": [
    "A = {\"key1\": 3, \"key2\": \"value\"}\n",
    "B = {\"key2\": 8, \"key3\": -3}\n",
    "print(A.__contains__(\"key2\"))"
   ]
  },
  {
   "cell_type": "code",
   "execution_count": 63,
   "id": "bcdcdb25-36af-469f-aa23-954f9a0c96d7",
   "metadata": {
    "pycharm": {
     "name": "#%%\n"
    }
   },
   "outputs": [
    {
     "data": {
      "text/plain": [
       "{'key1': 3, 'key2': 8, 'key3': -3}"
      ]
     },
     "execution_count": 63,
     "metadata": {},
     "output_type": "execute_result"
    }
   ],
   "source": [
    "def func(firstDict, secondDict):\n",
    "    for e2 in secondDict:\n",
    "        firstDict[e2] = secondDict[e2]\n",
    "    return firstDict\n",
    "func(A, B)"
   ]
  },
  {
   "cell_type": "markdown",
   "id": "d7f7225c-1d53-4d45-b236-db67cd86deec",
   "metadata": {
    "pycharm": {
     "name": "#%% md\n"
    }
   },
   "source": [
    "# Task 3\n",
    "\n",
    "Copy all elements from the following tuple into a list."
   ]
  },
  {
   "cell_type": "code",
   "execution_count": 64,
   "id": "fa734e92-82ef-495c-a03b-db3a16287a76",
   "metadata": {
    "pycharm": {
     "name": "#%%\n"
    }
   },
   "outputs": [],
   "source": [
    "imaTuple = tuple(*\"asdlkfjalsdkfjlasdjkf\".split())"
   ]
  },
  {
   "cell_type": "code",
   "execution_count": 65,
   "id": "3420afdf-7baf-4663-a6b1-9c2b4ccdb58f",
   "metadata": {
    "pycharm": {
     "name": "#%%\n"
    }
   },
   "outputs": [
    {
     "data": {
      "text/plain": [
       "list"
      ]
     },
     "execution_count": 65,
     "metadata": {},
     "output_type": "execute_result"
    }
   ],
   "source": [
    "def tupleToList(someTuple):\n",
    "    return list(someTuple)\n",
    "\n",
    "imaList = tupleToList(imaTuple)\n",
    "type(imaList)"
   ]
  },
  {
   "cell_type": "markdown",
   "id": "ca0b5a24-d619-4246-af26-e40e2e5efc17",
   "metadata": {},
   "source": [
    "# Task 4\n",
    "\n",
    "Create a 3x3 identity matrix using numpy. Add all rows of the matrix and return the resulting vector."
   ]
  },
  {
   "cell_type": "code",
   "execution_count": 74,
   "id": "c463ccaa-2f54-4b5c-951a-bc6ac04d4726",
   "metadata": {},
   "outputs": [
    {
     "name": "stdout",
     "output_type": "stream",
     "text": [
      "[[8. 0. 0. 0. 0.]\n",
      " [0. 8. 0. 0. 0.]\n",
      " [0. 0. 8. 0. 0.]\n",
      " [0. 0. 0. 8. 0.]\n",
      " [0. 0. 0. 0. 8.]]\n"
     ]
    },
    {
     "data": {
      "text/plain": [
       "array([[8.],\n",
       "       [8.],\n",
       "       [8.],\n",
       "       [8.],\n",
       "       [8.]])"
      ]
     },
     "execution_count": 74,
     "metadata": {},
     "output_type": "execute_result"
    }
   ],
   "source": [
    "def func(d,l):\n",
    "    resArr = numpy.zeros((d,d))\n",
    "    for d1 in range(d):\n",
    "        for d2 in range(d):\n",
    "           if d1 == d2:\n",
    "               resArr[d1,d2] = l\n",
    "    print(resArr)\n",
    "    resVec = numpy.zeros((d,1))\n",
    "    for d3 in range(d):\n",
    "        resVec[d3,0] = sum(resArr[d3,:])\n",
    "    return resVec\n",
    "\n",
    "func(5,8)"
   ]
  },
  {
   "cell_type": "markdown",
   "id": "4b3b1ce5-450a-47cb-a42c-9f9039d73c35",
   "metadata": {
    "pycharm": {
     "name": "#%% md\n"
    }
   },
   "source": [
    "# Task 5: LMS algorithm\n",
    "\n",
    "Implement the Least Mean Squares algorithm as given in the lecture slides (chapter 1: Introduction)"
   ]
  },
  {
   "cell_type": "code",
   "execution_count": null,
   "id": "5e4efeeb-9d69-43a9-9118-38cc63715595",
   "metadata": {
    "pycharm": {
     "name": "#%%\n"
    }
   },
   "outputs": [],
   "source": [
    "import matplotlib.pyplot as plt"
   ]
  },
  {
   "cell_type": "code",
   "execution_count": null,
   "id": "c7d838e1-e40e-4a9f-aaa2-49902eac1fa7",
   "metadata": {
    "pycharm": {
     "name": "#%%\n"
    }
   },
   "outputs": [
    {
     "data": {
      "text/plain": [
       "[<matplotlib.lines.Line2D at 0x14645144250>]"
      ]
     },
     "execution_count": 34,
     "metadata": {},
     "output_type": "execute_result"
    },
    {
     "data": {
      "image/png": "[encoded data removed]",
      "text/plain": [
       "<Figure size 432x288 with 1 Axes>"
      ]
     },
     "metadata": {
      "needs_background": "light"
     },
     "output_type": "display_data"
    }
   ],
   "source": [
    "# Dataset\n",
    "N = 1000\n",
    "x = np.linspace(0, 1, N)\n",
    "y = 4 + 3 * x + np.random.normal(0, 0.2, N)\n",
    "D = [(x[i], y[i]) for i in range(N)]\n",
    "plt.plot(x, y)"
   ]
  },
  {
   "cell_type": "code",
   "execution_count": null,
   "id": "f28ac792-0a68-4f45-9c06-0576bc319180",
   "metadata": {
    "pycharm": {
     "name": "#%%\n"
    }
   },
   "outputs": [],
   "source": [
    "def lms(dataset, eta):\n",
    "    w0, w1 = np.random.normal(100, 0.1, 2)\n",
    "    \n",
    "    i = 1\n",
    "    \n",
    "    for _ in range(1000):\n",
    "        data_index = np.random.choice(len(dataset))\n",
    "        x, y = dataset[data_index]\n",
    "        \n",
    "        # algorithm\n",
    "        \n",
    "    return w0, w1        "
   ]
  },
  {
   "cell_type": "code",
   "execution_count": null,
   "id": "51280f09-93cb-4074-b244-31163741cc78",
   "metadata": {
    "pycharm": {
     "name": "#%%\n"
    }
   },
   "outputs": [],
   "source": [
    "w0, w1 = lms(D, 0.1)"
   ]
  },
  {
   "cell_type": "code",
   "execution_count": null,
   "id": "2fd16582-ae34-4158-b1c0-37be0708be6d",
   "metadata": {
    "pycharm": {
     "name": "#%%\n"
    }
   },
   "outputs": [
    {
     "data": {
      "text/plain": [
       "[<matplotlib.lines.Line2D at 0x146458ee5b0>]"
      ]
     },
     "execution_count": 37,
     "metadata": {},
     "output_type": "execute_result"
    },
    {
     "data": {
      "image/png": "[encoded data removed]",
      "text/plain": [
       "<Figure size 432x288 with 1 Axes>"
      ]
     },
     "metadata": {
      "needs_background": "light"
     },
     "output_type": "display_data"
    }
   ],
   "source": [
    "plt.plot(x, y)\n",
    "plt.plot(x, w0 + x * w1)"
   ]
  },
  {
   "cell_type": "code",
   "execution_count": null,
   "id": "6055ca5d-7ee2-411b-a265-d248cd733d41",
   "metadata": {
    "pycharm": {
     "name": "#%%\n"
    }
   },
   "outputs": [],
   "source": []
  }
 ],
 "metadata": {
  "kernelspec": {
   "display_name": "Python 3.9.12 ('base')",
   "language": "python",
   "name": "python3"
  },
  "language_info": {
   "codemirror_mode": {
    "name": "ipython",
    "version": 3
   },
   "file_extension": ".py",
   "mimetype": "text/x-python",
   "name": "python",
   "nbconvert_exporter": "python",
   "pygments_lexer": "ipython3",
   "version": "3.9.12"
  },
  "vscode": {
   "interpreter": {
    "hash": "3017eed01e41510f2e4758f02a5c4b458edd512c2a48ee2ef97492bf17f5a7a1"
   }
  }
 },
 "nbformat": 4,
 "nbformat_minor": 5
}
