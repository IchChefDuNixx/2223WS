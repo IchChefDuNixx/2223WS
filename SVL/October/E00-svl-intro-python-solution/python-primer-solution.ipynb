{
 "cells": [
  {
   "cell_type": "markdown",
   "id": "18daba68-176e-441f-9871-bc64830fa0e3",
   "metadata": {},
   "source": [
    "# SVL 00 - Python Primer"
   ]
  },
  {
   "cell_type": "code",
   "execution_count": 2,
   "id": "32a055e6-43f1-4f45-b8b5-87fa9f9c7336",
   "metadata": {},
   "outputs": [],
   "source": [
    "import numpy as np"
   ]
  },
  {
   "cell_type": "markdown",
   "id": "0c0873f0-32dc-464e-bd2c-7231a012a440",
   "metadata": {},
   "source": [
    "## Task 1\n",
    "\n",
    "Implement a function that creates a dictionary with the following words as keys and each word's length as the key's value:"
   ]
  },
  {
   "cell_type": "code",
   "execution_count": 3,
   "id": "677d0f06-8b77-4d40-9a72-63ae509cc269",
   "metadata": {},
   "outputs": [],
   "source": [
    "words = \"Implement a function that creates a dictionary with the following words as keys and each word's length as the key's value\""
   ]
  },
  {
   "cell_type": "code",
   "execution_count": 4,
   "id": "d45577cc-64b2-434d-ac1b-b0bfa230f1b4",
   "metadata": {},
   "outputs": [
    {
     "data": {
      "text/plain": [
       "{'Implement': 9,\n",
       " 'a': 1,\n",
       " 'function': 8,\n",
       " 'that': 4,\n",
       " 'creates': 7,\n",
       " 'dictionary': 10,\n",
       " 'with': 4,\n",
       " 'the': 3,\n",
       " 'following': 9,\n",
       " 'words': 5,\n",
       " 'as': 2,\n",
       " 'keys': 4,\n",
       " 'and': 3,\n",
       " 'each': 4,\n",
       " \"word's\": 6,\n",
       " 'length': 6,\n",
       " \"key's\": 5,\n",
       " 'value': 5}"
      ]
     },
     "execution_count": 4,
     "metadata": {},
     "output_type": "execute_result"
    }
   ],
   "source": [
    "def func(words):\n",
    "    \n",
    "    D = {k: len(k) for k in words.split()}\n",
    "    \n",
    "    return D\n",
    "\n",
    "func(words)"
   ]
  },
  {
   "cell_type": "markdown",
   "id": "4ebb3535-6590-43f7-b005-61e19e37b730",
   "metadata": {},
   "source": [
    "# Task 2\n",
    "\n",
    "Implement a function that computes the Precision and Recall from the following confusion matrix:"
   ]
  },
  {
   "cell_type": "code",
   "execution_count": 5,
   "id": "5de154e9-259e-4373-96e4-8568a6db3a0f",
   "metadata": {},
   "outputs": [],
   "source": [
    "C = np.array([[97, 29],[3, 71]]) \n",
    "# Assume: \n",
    "# rows = predicted classes (row0=positive,row1=negative), \n",
    "# cols = true classes (col0=positive, col1=negative)"
   ]
  },
  {
   "cell_type": "code",
   "execution_count": 6,
   "id": "bcdcdb25-36af-469f-aa23-954f9a0c96d7",
   "metadata": {},
   "outputs": [
    {
     "data": {
      "text/plain": [
       "(0.7698412698412699, 0.97)"
      ]
     },
     "execution_count": 6,
     "metadata": {},
     "output_type": "execute_result"
    }
   ],
   "source": [
    "def precision_recall(conf_mat):\n",
    "    prec = 0.\n",
    "    reca = 0.\n",
    "    \n",
    "    prec = C[0,0] / C[0,:].sum()\n",
    "    reca = C[0,0] / C[:,0].sum()\n",
    "    \n",
    "    return prec, reca\n",
    "\n",
    "precision_recall(C)"
   ]
  },
  {
   "cell_type": "markdown",
   "id": "d7f7225c-1d53-4d45-b236-db67cd86deec",
   "metadata": {},
   "source": [
    "# Task 3\n",
    "\n",
    "Implement the inner product for two matrices $$C^{(k, n)} = A^{(k, m)} * B^{(m, n)}$$ without using numpy:"
   ]
  },
  {
   "cell_type": "code",
   "execution_count": 7,
   "id": "fa734e92-82ef-495c-a03b-db3a16287a76",
   "metadata": {},
   "outputs": [],
   "source": [
    "A = [\n",
    "     [3, 4, 1], \n",
    "     [7, -1, 2]\n",
    "    ]\n",
    "B = [\n",
    "     [-1, 2],\n",
    "     [7, -2], \n",
    "     [0, 3]\n",
    "    ]"
   ]
  },
  {
   "cell_type": "code",
   "execution_count": 8,
   "id": "3420afdf-7baf-4663-a6b1-9c2b4ccdb58f",
   "metadata": {},
   "outputs": [
    {
     "data": {
      "text/plain": [
       "[[25, 1], [-14, 22]]"
      ]
     },
     "execution_count": 8,
     "metadata": {},
     "output_type": "execute_result"
    }
   ],
   "source": [
    "def matmul(A, B):\n",
    "    \n",
    "    K = len(A)\n",
    "    M = len(A[0])\n",
    "    N = len(B[0])\n",
    "    \n",
    "    C = [[0 for _ in range(N)] for _ in range(K)]\n",
    "    \n",
    "    for k in range(K):\n",
    "        for n in range(N):\n",
    "            for m in range(M):\n",
    "                C[k][n] += A[k][m] * B[m][n]\n",
    "                \n",
    "    return C\n",
    "\n",
    "matmul(A, B)"
   ]
  },
  {
   "cell_type": "markdown",
   "id": "d99d7dde-20f3-445c-aa68-837f24599c81",
   "metadata": {},
   "source": [
    "# Task 4\n",
    "\n",
    "Implement the skeleton of a class 'MyEstimator'. The purpose of the class is to wrap the functionality of an arbitrary supervised learning algorithm. It needs to provide the following interface:\n",
    "- The constructor must accept a variable number of key-value arguments\n",
    "- The class must provide a 'fit' method, that accepts a numpy ndarray type named 'X' and another numpy ndarray type named 'y'. The method must return the object it was called on.\n",
    "- The class must provide a 'predict' method, that accepts a numpy ndarray type named 'X'."
   ]
  },
  {
   "cell_type": "code",
   "execution_count": 9,
   "id": "de6ca713-f971-4162-96cb-6d7c1f39e13d",
   "metadata": {},
   "outputs": [],
   "source": [
    "class MyEstimator:\n",
    "    \n",
    "    def __init__(self, *args, **kwargs):\n",
    "        self._myargs = kwargs\n",
    "        \n",
    "        for arg in args:\n",
    "            print(arg)\n",
    "            \n",
    "        for k, v in kwargs.items():\n",
    "            print(k, v)\n",
    "    \n",
    "    def fit(self, X : np.ndarray, y : np.ndarray):\n",
    "        return self\n",
    "    \n",
    "    def predict(self, X : np.ndarray):\n",
    "        return self"
   ]
  },
  {
   "cell_type": "code",
   "execution_count": 10,
   "id": "24279f59-d975-49cd-83de-ffb6c3d8c6aa",
   "metadata": {},
   "outputs": [
    {
     "name": "stdout",
     "output_type": "stream",
     "text": [
      "7\n",
      "param1 3\n",
      "param2 hosdlf\n"
     ]
    }
   ],
   "source": [
    "clf = MyEstimator(7, param1=3, param2=\"hosdlf\")"
   ]
  },
  {
   "cell_type": "markdown",
   "id": "4b3b1ce5-450a-47cb-a42c-9f9039d73c35",
   "metadata": {},
   "source": [
    "# Task 5: LMS algorithm"
   ]
  },
  {
   "cell_type": "code",
   "execution_count": 11,
   "id": "5e4efeeb-9d69-43a9-9118-38cc63715595",
   "metadata": {},
   "outputs": [],
   "source": [
    "import matplotlib.pyplot as plt"
   ]
  },
  {
   "cell_type": "code",
   "execution_count": 12,
   "id": "c7d838e1-e40e-4a9f-aaa2-49902eac1fa7",
   "metadata": {},
   "outputs": [
    {
     "data": {
      "text/plain": [
       "[<matplotlib.lines.Line2D at 0x1c10e5af9a0>]"
      ]
     },
     "execution_count": 12,
     "metadata": {},
     "output_type": "execute_result"
    },
    {
     "data": {
      "image/png": "[encoded data removed]",
      "text/plain": [
       "<Figure size 432x288 with 1 Axes>"
      ]
     },
     "metadata": {
      "needs_background": "light"
     },
     "output_type": "display_data"
    }
   ],
   "source": [
    "# Dataset\n",
    "N = 1000\n",
    "x = np.linspace(0, 1, N)\n",
    "y = 4 + 3 * x + np.random.normal(0, 0.2, N)\n",
    "D = [(x[i], y[i]) for i in range(N)]\n",
    "plt.plot(x, y)"
   ]
  },
  {
   "cell_type": "code",
   "execution_count": 16,
   "id": "f28ac792-0a68-4f45-9c06-0576bc319180",
   "metadata": {},
   "outputs": [],
   "source": [
    "def lms(dataset, eta):\n",
    "    w0, w1 = np.random.normal(100, 0.1, 2)\n",
    "    \n",
    "    #algorithm\n",
    "    \n",
    "    i = 1\n",
    "    \n",
    "    for _ in range(1000):\n",
    "        data_index = np.random.choice(len(dataset))\n",
    "        x, y = dataset[data_index]\n",
    "\n",
    "        h_x = w0 + w1 * x\n",
    "        \n",
    "        err = y - h_x\n",
    "        i += 1\n",
    "        \n",
    "        if i % 100 == 0:\n",
    "            print(i, abs(err))\n",
    "        \n",
    "        w0 += eta * err\n",
    "        w1 += eta * err * x\n",
    "        \n",
    "    return w0, w1        "
   ]
  },
  {
   "cell_type": "code",
   "execution_count": 17,
   "id": "51280f09-93cb-4074-b244-31163741cc78",
   "metadata": {},
   "outputs": [
    {
     "name": "stdout",
     "output_type": "stream",
     "text": [
      "100 2.0511540098835015\n",
      "200 3.069964523100343\n",
      "300 1.4407236964674874\n",
      "400 1.4441098672519503\n",
      "500 0.1913031441058708\n",
      "600 0.520792310476669\n",
      "700 0.40293644979838295\n",
      "800 0.0462438947063637\n",
      "900 0.20916901849575176\n",
      "1000 0.1563526441973142\n"
     ]
    }
   ],
   "source": [
    "w0, w1 = lms(D, 0.1)"
   ]
  },
  {
   "cell_type": "code",
   "execution_count": 32,
   "id": "2fd16582-ae34-4158-b1c0-37be0708be6d",
   "metadata": {},
   "outputs": [
    {
     "data": {
      "text/plain": [
       "[<matplotlib.lines.Line2D at 0x1c111d10280>]"
      ]
     },
     "execution_count": 32,
     "metadata": {},
     "output_type": "execute_result"
    },
    {
     "data": {
      "image/png": "[encoded data removed]",
      "text/plain": [
       "<Figure size 432x288 with 1 Axes>"
      ]
     },
     "metadata": {
      "needs_background": "light"
     },
     "output_type": "display_data"
    }
   ],
   "source": [
    "plt.plot(x, y)\n",
    "plt.plot(x, w0 + x * w1)"
   ]
  },
  {
   "cell_type": "code",
   "execution_count": null,
   "id": "6055ca5d-7ee2-411b-a265-d248cd733d41",
   "metadata": {},
   "outputs": [],
   "source": []
  }
 ],
 "metadata": {
  "kernelspec": {
   "display_name": "Python 3",
   "language": "python",
   "name": "python3"
  },
  "language_info": {
   "codemirror_mode": {
    "name": "ipython",
    "version": 3
   },
   "file_extension": ".py",
   "mimetype": "text/x-python",
   "name": "python",
   "nbconvert_exporter": "python",
   "pygments_lexer": "ipython3",
   "version": "3.10.0"
  },
  "vscode": {
   "interpreter": {
    "hash": "e2f04cf2f7544c889a1a0098c1cf78ced2c664ea38df0d27a9b899b5831aa2a5"
   }
  }
 },
 "nbformat": 4,
 "nbformat_minor": 5
}
