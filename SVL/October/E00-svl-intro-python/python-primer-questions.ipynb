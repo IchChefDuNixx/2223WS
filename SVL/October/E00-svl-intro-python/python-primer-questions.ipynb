{
 "cells": [
  {
   "cell_type": "markdown",
   "id": "18daba68-176e-441f-9871-bc64830fa0e3",
   "metadata": {},
   "source": [
    "# SVL 00 - Python Primer"
   ]
  },
  {
   "cell_type": "code",
   "execution_count": 1,
   "id": "32a055e6-43f1-4f45-b8b5-87fa9f9c7336",
   "metadata": {},
   "outputs": [],
   "source": [
    "import numpy as np"
   ]
  },
  {
   "cell_type": "markdown",
   "id": "0c0873f0-32dc-464e-bd2c-7231a012a440",
   "metadata": {},
   "source": [
    "## Task 1\n",
    "\n",
    "Implement a function that creates a dictionary with the following words as keys and each word's length as the key's value:"
   ]
  },
  {
   "cell_type": "code",
   "execution_count": 2,
   "id": "677d0f06-8b77-4d40-9a72-63ae509cc269",
   "metadata": {},
   "outputs": [],
   "source": [
    "words = \"Implement a function that creates a dictionary with the following words as keys and each word's length as the key's value\""
   ]
  },
  {
   "cell_type": "code",
   "execution_count": 3,
   "id": "d45577cc-64b2-434d-ac1b-b0bfa230f1b4",
   "metadata": {},
   "outputs": [
    {
     "data": {
      "text/plain": [
       "{'Implement': 9,\n",
       " 'a': 1,\n",
       " 'function': 8,\n",
       " 'that': 4,\n",
       " 'creates': 7,\n",
       " 'dictionary': 10,\n",
       " 'with': 4,\n",
       " 'the': 3,\n",
       " 'following': 9,\n",
       " 'words': 5,\n",
       " 'as': 2,\n",
       " 'keys': 4,\n",
       " 'and': 3,\n",
       " 'each': 4,\n",
       " \"word's\": 6,\n",
       " 'length': 6,\n",
       " \"key's\": 5,\n",
       " 'value': 5}"
      ]
     },
     "execution_count": 3,
     "metadata": {},
     "output_type": "execute_result"
    }
   ],
   "source": [
    "def func(words):\n",
    "    D = {}\n",
    "    #TODO\n",
    "    temp = words.split()\n",
    "    for word in temp:\n",
    "        D[word] = len(word)\n",
    "    return D\n",
    "\n",
    "func(words)"
   ]
  },
  {
   "cell_type": "markdown",
   "id": "4ebb3535-6590-43f7-b005-61e19e37b730",
   "metadata": {},
   "source": [
    "# Task 2\n",
    "\n",
    "Implement a function that computes the Precision and Recall from the following confusion matrix:"
   ]
  },
  {
   "cell_type": "code",
   "execution_count": 5,
   "id": "5de154e9-259e-4373-96e4-8568a6db3a0f",
   "metadata": {},
   "outputs": [],
   "source": [
    "C = np.array([[97, 29], #pred true\n",
    "              [3, 71]]) #pred false\n",
    "            #pos #neg\n",
    "# Assume: \n",
    "# rows = predicted classes (row0=positive,row1=negative), \n",
    "# cols = true classes (col0=positive, col1=negative)"
   ]
  },
  {
   "cell_type": "code",
   "execution_count": 17,
   "id": "bcdcdb25-36af-469f-aa23-954f9a0c96d7",
   "metadata": {},
   "outputs": [
    {
     "data": {
      "text/plain": [
       "(0.7698412698412699, 0.97)"
      ]
     },
     "execution_count": 17,
     "metadata": {},
     "output_type": "execute_result"
    }
   ],
   "source": [
    "def precision_recall(conf_mat):\n",
    "    prec = 0.\n",
    "    reca = 0.\n",
    "    \n",
    "    #TODO\n",
    "    prec = conf_mat[0,0]/(conf_mat[0,0]+conf_mat[0,1])\n",
    "    reca = conf_mat[0,0]/(conf_mat[0,0]+conf_mat[1,0])\n",
    "    return prec, reca\n",
    "\n",
    "precision_recall(C)"
   ]
  },
  {
   "cell_type": "markdown",
   "id": "d7f7225c-1d53-4d45-b236-db67cd86deec",
   "metadata": {},
   "source": [
    "# Task 3\n",
    "\n",
    "Implement the inner product for two matrices $$C^{(k, n)} = A^{(k, m)} * B^{(m, n)}$$ without using numpy:"
   ]
  },
  {
   "cell_type": "code",
   "execution_count": 18,
   "id": "fa734e92-82ef-495c-a03b-db3a16287a76",
   "metadata": {},
   "outputs": [],
   "source": [
    "A = [\n",
    "     [3, 4, 1], \n",
    "     [7, -1, 2]\n",
    "    ]\n",
    "B = [\n",
    "     [-1, 2],\n",
    "     [7, -2], \n",
    "     [0, 3]\n",
    "    ]"
   ]
  },
  {
   "cell_type": "code",
   "execution_count": 20,
   "id": "3420afdf-7baf-4663-a6b1-9c2b4ccdb58f",
   "metadata": {},
   "outputs": [
    {
     "data": {
      "text/plain": [
       "47"
      ]
     },
     "execution_count": 20,
     "metadata": {},
     "output_type": "execute_result"
    }
   ],
   "source": [
    "def matmul(A, B):\n",
    "    \n",
    "    # TODO\n",
    "    res = 0\n",
    "    for i in range(len(A)):\n",
    "        for j in range(len(A[0])):\n",
    "            res += A[i][j]*B[j][i]\n",
    "    return res\n",
    "\n",
    "matmul(A, B)"
   ]
  },
  {
   "cell_type": "markdown",
   "id": "d99d7dde-20f3-445c-aa68-837f24599c81",
   "metadata": {},
   "source": [
    "# Task 4\n",
    "\n",
    "Implement the skeleton of a class 'MyEstimator'. The purpose of the class is to wrap the functionality of an arbitrary supervised learning algorithm. It needs to provide the following interface:\n",
    "- The constructor must accept a variable number of key-value arguments\n",
    "- The class must provide a 'fit' method, that accepts a numpy ndarray type named 'X' and another numpy ndarray type named 'y'. The method must return the object it was called on.\n",
    "- The class must provide a 'predict' method, that accepts a numpy ndarray type named 'X'."
   ]
  },
  {
   "cell_type": "code",
   "execution_count": 11,
   "id": "de6ca713-f971-4162-96cb-6d7c1f39e13d",
   "metadata": {},
   "outputs": [],
   "source": [
    "class MyEstimator:\n",
    "    pass"
   ]
  },
  {
   "cell_type": "markdown",
   "id": "4b3b1ce5-450a-47cb-a42c-9f9039d73c35",
   "metadata": {},
   "source": [
    "# Task 5: LMS algorithm"
   ]
  },
  {
   "cell_type": "code",
   "execution_count": 22,
   "id": "5e4efeeb-9d69-43a9-9118-38cc63715595",
   "metadata": {},
   "outputs": [],
   "source": [
    "import matplotlib.pyplot as plt"
   ]
  },
  {
   "cell_type": "code",
   "execution_count": 156,
   "id": "c7d838e1-e40e-4a9f-aaa2-49902eac1fa7",
   "metadata": {},
   "outputs": [
    {
     "data": {
      "text/plain": [
       "[<matplotlib.lines.Line2D at 0x1e2b3cd8c70>]"
      ]
     },
     "execution_count": 156,
     "metadata": {},
     "output_type": "execute_result"
    },
    {
     "data": {
      "image/png": "[encoded data removed]",
      "text/plain": [
       "<Figure size 432x288 with 1 Axes>"
      ]
     },
     "metadata": {
      "needs_background": "light"
     },
     "output_type": "display_data"
    }
   ],
   "source": [
    "# Dataset\n",
    "N = 1000\n",
    "x = np.linspace(0, 1, N)\n",
    "y = 4 + 3 * x + np.random.normal(0, 0.2, N)\n",
    "D = [(x[i], y[i]) for i in range(N)]\n",
    "plt.plot(x, y)"
   ]
  },
  {
   "cell_type": "code",
   "execution_count": 192,
   "id": "f28ac792-0a68-4f45-9c06-0576bc319180",
   "metadata": {},
   "outputs": [
    {
     "name": "stdout",
     "output_type": "stream",
     "text": [
      "totalError: 45.13521583524587\n"
     ]
    },
    {
     "data": {
      "text/plain": [
       "[<matplotlib.lines.Line2D at 0x1e2b8ac5600>]"
      ]
     },
     "execution_count": 192,
     "metadata": {},
     "output_type": "execute_result"
    },
    {
     "data": {
      "image/png": "[encoded data removed]",
      "text/plain": [
       "<Figure size 432x288 with 1 Axes>"
      ]
     },
     "metadata": {
      "needs_background": "light"
     },
     "output_type": "display_data"
    }
   ],
   "source": [
    "def lms(dataset, eta):\n",
    "    w0, w1 = np.random.normal(0, 0.1, 2)\n",
    "    \n",
    "    # TODO: algorithm\n",
    "    for _ in range(100):\n",
    "        for i in range(N):\n",
    "            error = y[i] - (w0+w1*x[i])\n",
    "            w0 += eta * error\n",
    "            w1 += eta * error * x[i]\n",
    "\n",
    "    print(f\"totalError: {sum([(w0+w1*x[i]-y[i])**2 for i in range(N)])}\")\n",
    "    return w0,w1\n",
    "\n",
    "w0, w1 = lms(D, 0.1)\n",
    "plt.plot(x, y)\n",
    "plt.plot(x, w0 + x * w1)     "
   ]
  }
 ],
 "metadata": {
  "kernelspec": {
   "display_name": "Python 3",
   "language": "python",
   "name": "python3"
  },
  "language_info": {
   "codemirror_mode": {
    "name": "ipython",
    "version": 3
   },
   "file_extension": ".py",
   "mimetype": "text/x-python",
   "name": "python",
   "nbconvert_exporter": "python",
   "pygments_lexer": "ipython3",
   "version": "3.10.0"
  },
  "vscode": {
   "interpreter": {
    "hash": "e2f04cf2f7544c889a1a0098c1cf78ced2c664ea38df0d27a9b899b5831aa2a5"
   }
  }
 },
 "nbformat": 4,
 "nbformat_minor": 5
}
