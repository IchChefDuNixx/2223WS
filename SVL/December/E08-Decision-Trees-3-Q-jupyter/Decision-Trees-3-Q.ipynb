{
 "cells": [
  {
   "cell_type": "markdown",
   "metadata": {},
   "source": [
    "# Decision Trees \n"
   ]
  },
  {
   "cell_type": "markdown",
   "metadata": {},
   "source": [
    "#### Setting up IPython Notebook\n",
    "The code below simply sets up the jupyter notebook and displays graphs inline (e.g. as HTML)"
   ]
  },
  {
   "cell_type": "code",
   "execution_count": 1,
   "metadata": {},
   "outputs": [],
   "source": [
    "%matplotlib inline\n",
    "\n",
    "import numpy as np\n",
    "import pandas as pd\n",
    "from matplotlib import pyplot as plt\n",
    "import numpy.linalg as la\n",
    "np.set_printoptions(precision=3)\n",
    "def pp_float_list(ps):#pretty print functionality\n",
    "    return [\"%2.3f\" % p for p in ps]"
   ]
  },
  {
   "cell_type": "markdown",
   "metadata": {},
   "source": [
    "# Long-term Goal: Implement the ID3-Algorithm\n",
    "\n",
    "Experiments are conducted on the [UCI CAR Dataset](http://archive.ics.uci.edu/ml/machine-learning-databases/car/).\n",
    "\n",
    "We will cover\n",
    "  \n",
    "  * Data Setup\n",
    "  * Impurity functions and impurity reduction\n",
    "  * ID3 Algorithm for learning a decision tree\n",
    "  * Classifying unseen examples\n",
    "  * Evaluation using cross validation"
   ]
  },
  {
   "cell_type": "markdown",
   "metadata": {},
   "source": [
    "## 1. Data Setup"
   ]
  },
  {
   "cell_type": "markdown",
   "metadata": {},
   "source": [
    "### 1.1 Download and import the data"
   ]
  },
  {
   "cell_type": "code",
   "execution_count": 2,
   "metadata": {
    "scrolled": true,
    "tags": []
   },
   "outputs": [
    {
     "name": "stdout",
     "output_type": "stream",
     "text": [
      "mkdir: CAR: File exists\n",
      "  % Total    % Received % Xferd  Average Speed   Time    Time     Time  Current\n",
      "                                 Dload  Upload   Total   Spent    Left  Speed\n",
      "100 51867  100 51867    0     0  75031      0 --:--:-- --:--:-- --:--:-- 75497\n",
      "  % Total    % Received % Xferd  Average Speed   Time    Time     Time  Current\n",
      "                                 Dload  Upload   Total   Spent    Left  Speed\n",
      "100  3097  100  3097    0     0   9028      0 --:--:-- --:--:-- --:--:--  9189\n",
      "1. Title: Car Evaluation Database\n",
      "\n",
      "2. Sources:\n",
      "   (a) Creator: Marko Bohanec\n",
      "   (b) Donors: Marko Bohanec   (marko.bohanec@ijs.si)\n",
      "               Blaz Zupan      (blaz.zupan@ijs.si)\n",
      "   (c) Date: June, 1997\n",
      "\n",
      "3. Past Usage:\n",
      "\n",
      "   The hierarchical decision model, from which this dataset is\n",
      "   derived, was first presented in \n",
      "\n",
      "   M. Bohanec and V. Rajkovic: Knowledge acquisition and explanation for\n",
      "   multi-attribute decision making. In 8th Intl Workshop on Expert\n",
      "   Systems and their Applications, Avignon, France. pages 59-78, 1988.\n",
      "\n",
      "   Within machine-learning, this dataset was used for the evaluation\n",
      "   of HINT (Hierarchy INduction Tool), which was proved to be able to\n",
      "   completely reconstruct the original hierarchical model. This,\n",
      "   together with a comparison with C4.5, is presented in\n",
      "\n",
      "   B. Zupan, M. Bohanec, I. Bratko, J. Demsar: Machine learning by\n",
      "   function decomposition. ICML-97, Nashville, TN. 1997 (to appear)\n",
      "\n",
      "4. Relevant Information Paragraph:\n",
      "\n",
      "   Car Evaluation Database was derived from a simple hierarchical\n",
      "   decision model originally developed for the demonstration of DEX\n",
      "   (M. Bohanec, V. Rajkovic: Expert system for decision\n",
      "   making. Sistemica 1(1), pp. 145-157, 1990.). The model evaluates\n",
      "   cars according to the following concept structure:\n",
      "\n",
      "   CAR                      car acceptability\n",
      "   . PRICE                  overall price\n",
      "   . . buying               buying price\n",
      "   . . maint                price of the maintenance\n",
      "   . TECH                   technical characteristics\n",
      "   . . COMFORT              comfort\n",
      "   . . . doors              number of doors\n",
      "   . . . persons            capacity in terms of persons to carry\n",
      "   . . . lug_boot           the size of luggage boot\n",
      "   . . safety               estimated safety of the car\n",
      "\n",
      "   Input attributes are printed in lowercase. Besides the target\n",
      "   concept (CAR), the model includes three intermediate concepts:\n",
      "   PRICE, TECH, COMFORT. Every concept is in the original model\n",
      "   related to its lower level descendants by a set of examples (for\n",
      "   these examples sets see http://www-ai.ijs.si/BlazZupan/car.html).\n",
      "\n",
      "   The Car Evaluation Database contains examples with the structural\n",
      "   information removed, i.e., directly relates CAR to the six input\n",
      "   attributes: buying, maint, doors, persons, lug_boot, safety.\n",
      "\n",
      "   Because of known underlying concept structure, this database may be\n",
      "   particularly useful for testing constructive induction and\n",
      "   structure discovery methods.\n",
      "\n",
      "5. Number of Instances: 1728\n",
      "   (instances completely cover the attribute space)\n",
      "\n",
      "6. Number of Attributes: 6\n",
      "\n",
      "7. Attribute Values:\n",
      "\n",
      "   buying       v-high, high, med, low\n",
      "   maint        v-high, high, med, low\n",
      "   doors        2, 3, 4, 5-more\n",
      "   persons      2, 4, more\n",
      "   lug_boot     small, med, big\n",
      "   safety       low, med, high\n",
      "\n",
      "8. Missing Attribute Values: none\n",
      "\n",
      "9. Class Distribution (number of instances per class)\n",
      "\n",
      "   class      N          N[%]\n",
      "   -----------------------------\n",
      "   unacc     1210     (70.023 %) \n",
      "   acc        384     (22.222 %) \n",
      "   good        69     ( 3.993 %) \n",
      "   v-good      65     ( 3.762 %) \n"
     ]
    }
   ],
   "source": [
    "#shell scripts for downloading the data and placing it in a corresponding directory\n",
    "!mkdir CAR \n",
    "!curl -o CAR/data \"http://archive.ics.uci.edu/ml/machine-learning-databases/car/car.data\"\n",
    "!curl -o CAR/description \"http://archive.ics.uci.edu/ml/machine-learning-databases/car/car.names\"\n",
    "#download the description and display it here.\n",
    "!cat CAR/description"
   ]
  },
  {
   "cell_type": "markdown",
   "metadata": {},
   "source": [
    "### 1.2 A bit of ugly preprocessing (ignore that part)"
   ]
  },
  {
   "cell_type": "code",
   "execution_count": 3,
   "metadata": {},
   "outputs": [
    {
     "name": "stdout",
     "output_type": "stream",
     "text": [
      "(1728, 6) (1728,)\n"
     ]
    }
   ],
   "source": [
    "# csv-file has no header, so we define it manually\n",
    "col_names = ['price_buy', 'price_main', 'n_doors', 'n_persons', 'lug_boot', 'safety', 'recommendation']\n",
    "df = pd.read_csv(\"./CAR/data\", header=None, names=col_names)\n",
    "\n",
    "# All attributes are categorical - a mix of strings and integers.\n",
    "# We simply map the categorical values of each attribute to a set of distinct integers\n",
    "ai2an_map = col_names\n",
    "ai2aiv2aivn_map = []\n",
    "enc_cols = []\n",
    "for col in df.columns:\n",
    "    df[col] = df[col].astype('category')\n",
    "    a = np.array(df[col].cat.codes.values).reshape((-1,1))\n",
    "    enc_cols.append(a)\n",
    "    ai2aiv2aivn_map.append(list(df[col].cat.categories.values))\n",
    "    \n",
    "# Get the data as numpy 2d-matrix (n_samples, n_features)\n",
    "feature_names = ai2an_map\n",
    "feature_value_names = ai2aiv2aivn_map[:6]\n",
    "class_label_names = ai2aiv2aivn_map[6]\n",
    "\n",
    "dataset = np.hstack(enc_cols)\n",
    "X, y = dataset[:,:6], dataset[:,6]\n",
    "print(X.shape, y.shape)"
   ]
  },
  {
   "cell_type": "markdown",
   "metadata": {},
   "source": [
    "### 1.3 The data"
   ]
  },
  {
   "cell_type": "markdown",
   "metadata": {},
   "source": [
    "The data matrix ```X``` contains the preprocessed dataset. Each column corresponds to a feature. The feature names are given in ```feature_names```. The meaning of the feature values are given in ```feature_value_names```. \n",
    "\n",
    "The array ```y``` contains the class of each car. The meaning of each class is given in ```class_label_names```."
   ]
  },
  {
   "cell_type": "code",
   "execution_count": 4,
   "metadata": {},
   "outputs": [
    {
     "data": {
      "text/plain": [
       "(array([[3, 3, 0, 0, 2, 1],\n",
       "        [3, 3, 0, 0, 2, 2],\n",
       "        [3, 3, 0, 0, 2, 0],\n",
       "        ...,\n",
       "        [1, 1, 3, 2, 0, 1],\n",
       "        [1, 1, 3, 2, 0, 2],\n",
       "        [1, 1, 3, 2, 0, 0]], dtype=int8),\n",
       " array([2, 2, 2, ..., 2, 1, 3], dtype=int8))"
      ]
     },
     "execution_count": 4,
     "metadata": {},
     "output_type": "execute_result"
    }
   ],
   "source": [
    "X, y"
   ]
  },
  {
   "cell_type": "code",
   "execution_count": 5,
   "metadata": {},
   "outputs": [
    {
     "data": {
      "text/plain": [
       "(['price_buy',\n",
       "  'price_main',\n",
       "  'n_doors',\n",
       "  'n_persons',\n",
       "  'lug_boot',\n",
       "  'safety',\n",
       "  'recommendation'],\n",
       " [['high', 'low', 'med', 'vhigh'],\n",
       "  ['high', 'low', 'med', 'vhigh'],\n",
       "  ['2', '3', '4', '5more'],\n",
       "  ['2', '4', 'more'],\n",
       "  ['big', 'med', 'small'],\n",
       "  ['high', 'low', 'med']],\n",
       " ['acc', 'good', 'unacc', 'vgood'])"
      ]
     },
     "execution_count": 5,
     "metadata": {},
     "output_type": "execute_result"
    }
   ],
   "source": [
    "feature_names, feature_value_names, class_label_names"
   ]
  },
  {
   "cell_type": "markdown",
   "metadata": {},
   "source": [
    "## 2. Impurity functions and impurity reduction\n",
    "In the following, we will implement the impurity function(s) $\\iota(D)$ and impurity reduction function $\\Delta\\iota(D,\\{D_1\\ldots D_s\\})$.\n",
    "\n",
    "$$\n",
    "\\iota(D) = \\iota\\left(\\frac{|\\{(x,c(x))\\in D : c(x) = c_1\\}|}{|D|},...,\\frac{|\\{(x,c(x))\\in D : c(x) = c_k\\}|}{|D|}\\right)\n",
    "$$\n",
    "\n",
    "$$\n",
    "\\Delta\\iota(D,\\{D_1\\ldots D_s\\}) = \\iota(D) - \\sum_{j=1}^{s}\\frac{|D_j|}{|D|}\\cdot\\iota(D_j)\n",
    "$$\n"
   ]
  },
  {
   "cell_type": "markdown",
   "metadata": {},
   "source": [
    "### 2.1 Impurity functions"
   ]
  },
  {
   "cell_type": "code",
   "execution_count": 6,
   "metadata": {
    "tags": []
   },
   "outputs": [],
   "source": [
    "def _entropy(p):\n",
    "    \"\"\"\n",
    "    p: class frequencies as numpy array with np.sum(p)=1\n",
    "    returns: impurity according to entropy criterion\n",
    "    \"\"\"\n",
    "    idx = np.where(p == 0.) #consider 0*log(0) as 0\n",
    "    p[idx] = 1.\n",
    "  \n",
    "    r = p * np.log2(p)\n",
    "    \n",
    "    return -np.sum(r)\n",
    "\n",
    "def _gini(p):\n",
    "    \"\"\"\n",
    "    p: class frequencies as numpy array with np.sum(p)=1\n",
    "    returns: impurity according to gini criterion\n",
    "    \"\"\"\n",
    "    return 1. - np.sum(p**2)\n",
    "\n",
    "def _misclass(p):\n",
    "    \"\"\"\n",
    "    p: class frequencies as numpy array with np.sum(p)=1\n",
    "    returns: impurity according to misclassification rate\n",
    "    \"\"\"\n",
    "    return 1-np.max(p)"
   ]
  },
  {
   "cell_type": "code",
   "execution_count": 7,
   "metadata": {},
   "outputs": [
    {
     "data": {
      "text/plain": [
       "1.0"
      ]
     },
     "execution_count": 7,
     "metadata": {},
     "output_type": "execute_result"
    }
   ],
   "source": [
    "_entropy(np.array([0.5, 0.5]))"
   ]
  },
  {
   "cell_type": "markdown",
   "metadata": {},
   "source": [
    "Lets visualise the functions for the 2D case"
   ]
  },
  {
   "cell_type": "code",
   "execution_count": 8,
   "metadata": {},
   "outputs": [
    {
     "data": {
      "image/png": "[encoded data removed]",
      "text/plain": [
       "<Figure size 640x480 with 1 Axes>"
      ]
     },
     "metadata": {},
     "output_type": "display_data"
    }
   ],
   "source": [
    "#lets plot the functions for the 2D case \n",
    "p1=np.linspace(0,1,40)\n",
    "imp_gini=[_gini(np.array([p,1-p])) for p in p1]\n",
    "imp_ent=[_entropy(np.array([p,1-p])) for p in p1]\n",
    "imp_mc=[_misclass(np.array([p,1-p])) for p in p1]\n",
    "plt.plot (p1,imp_gini,label=\"gini\")\n",
    "plt.plot (p1,imp_ent,label=\"entropy\")\n",
    "plt.plot (p1,imp_mc,label=\"misclassification\")\n",
    "plt.xlabel(\"(p,1-p)\")\n",
    "plt.ylabel(\"impurity(p1,p2)\")\n",
    "plt.legend()\n",
    "plt.show()"
   ]
  },
  {
   "cell_type": "markdown",
   "metadata": {},
   "source": [
    "### 2.2 Impurity reduction"
   ]
  },
  {
   "cell_type": "code",
   "execution_count": 9,
   "metadata": {
    "tags": []
   },
   "outputs": [],
   "source": [
    "def impurity_reduction(X, a_i, y, impurity, verbose=0):\n",
    "    \"\"\"\n",
    "    Summary: This function evaluates the impurity reduction achieved by the \n",
    "    attribute `a_i` when the attribute were used for partitioning the dataset `X`.\n",
    "    \n",
    "    X: data matrix n rows, d columns\n",
    "    a_i: column index of the attribute to evaluate the impurity reduction for\n",
    "    y: class label vector with n rows and 1 column\n",
    "    impurity: impurity function of the form impurity(p_1....p_k) with k=|X[a].unique|\n",
    "    \n",
    "    returns: impurity reduction\n",
    "    \"\"\"\n",
    "    \n",
    "    N, d = float(X.shape[0]), float(X.shape[1])\n",
    "\n",
    "    y_v = np.unique(y)\n",
    "    \n",
    "    # Compute relative frequency of each class in X\n",
    "    p = (1. / N) * np.array([np.sum(y==c) for c in y_v])\n",
    "    # ..and corresponding impurity l(D)\n",
    "    H_p = impurity(p)\n",
    "    \n",
    "    if verbose: print (f\"\\t Impurity {H_p:.5f}: Class Frequencies {pp_float_list(p)}\")\n",
    "    \n",
    "    # a_v is an array of unique values in column a_i\n",
    "    a_v = np.unique(X[:, a_i])\n",
    "    \n",
    "    \"\"\"\n",
    "    Create and evaluate splitting of X induced by attribute a_i\n",
    "    We assume nominal features and perform m-ary splitting.\n",
    "    \n",
    "    We partition the dataset X into as many subsets as there are different values\n",
    "    in attribute a_i. Each subset contains the exactly those data points that have \n",
    "    the value `a_vv` in attribute `a_i`. The following steps are required:\n",
    "    - Once we have determined which data points belong to a subset (`mask_a`), \n",
    "      we can look up their corresponding class labels in the vector of \n",
    "      class labels `y`.\n",
    "    - Then we count how many times each class label appears in the subset and\n",
    "      calculate the relative frequencies `pa`.\n",
    "    - Now we can calculate the impurity of the subset `H_pa_vv` based on the \n",
    "      relative frequencies `pa` of the classes that are present in the subset.\n",
    "    - We add the impurity of the subset `H_pa_vv` to a list `H_pa`.\n",
    "    - ...and repeat the process until we have evaluated all subsets\n",
    "\n",
    "    \"\"\"\n",
    "    \n",
    "    H_pa = []\n",
    "    for a_vv in a_v:\n",
    "        mask_a = X[:, a_i] == a_vv\n",
    "        N_a = float(mask_a.sum())\n",
    "                     \n",
    "        # Compute relative frequency of each class in X[mask_a]\n",
    "        pa = (1. / N_a) * np.array([np.sum(y[mask_a] == c) for c in y_v])\n",
    "        H_pa_vv = (N_a / N) * impurity(pa)\n",
    "        H_pa.append(H_pa_vv)\n",
    "        if verbose: print (f\"\\t\\t Impurity {H_pa[-1]:.5f} for value {a_vv} of attribute {a_i}: Class Frequencies {pp_float_list(pa)}\")\n",
    "    \n",
    "    \"\"\"\n",
    "    The impurity reduction (aka \"information gain\" if we use entropy as a measure),\n",
    "    is given by the difference of the impurity of the whole dataset `H_p` and the \n",
    "    weighted sum of the impurities of the subsets `np.sum(H_pa)`.\n",
    "    \"\"\"\n",
    "    IR = H_p - np.sum(H_pa)\n",
    "    if verbose:  print (f\"\\t\\t Estimated reduction {IR:.5f}\")\n",
    "    return IR"
   ]
  },
  {
   "cell_type": "markdown",
   "metadata": {},
   "source": [
    "# 3. ID3 Algorithm"
   ]
  },
  {
   "cell_type": "markdown",
   "metadata": {},
   "source": [
    "Given the different impurity reduction functions, the ID3 algorithm is straight-forward. We build the tree recursively top-down. In each recursion step, we search for the attribute with maximum impurity reduction and create a new node in the tree."
   ]
  },
  {
   "cell_type": "markdown",
   "metadata": {},
   "source": [
    "### 3.1 Splitting\n",
    "\n",
    "Splitting is done by finding the attribute that produces the largest impurity reduction.\n",
    "\n",
    "Therefore, we define a function `get_split_attribute`. \n",
    "\n",
    "The function should call `impurity_reduction` that we have defined above.\n",
    "\n",
    "The function should return an attribute (column index of the attribute in X) and the impurity reduction achieved by that attribute."
   ]
  },
  {
   "cell_type": "code",
   "execution_count": 10,
   "metadata": {
    "tags": []
   },
   "outputs": [],
   "source": [
    "def get_split_attribute(X, y, attributes, impurity, verbose=0):\n",
    "    \"\"\"\n",
    "    X: data matrix n rows, d columns\n",
    "    y: vector with n rows, 1 column containing the class labels\n",
    "    attributes: A dictionary. The key corresponds to an attribute's column index in X and the value is a list of values the attribute can take (its domain).\n",
    "    impurity: impurity function of the form impurity(p_1....p_k) with k=|y.unique|\n",
    "    returns: (1) column idx of attribute with maximum impurity reduction and (2) impurity reduction\n",
    "    \"\"\"\n",
    "    \n",
    "    N, d = X.shape\n",
    "    IR = [0.] * d\n",
    "    \n",
    "    for a_i in attributes.keys():\n",
    "        IR[a_i] = impurity_reduction(X, a_i, y, impurity, verbose)\n",
    "        \n",
    "    if verbose: print(\"Impurity reduction for class attribute (ordered by attributes)\",(pp_float_list(IR)))\n",
    "    \n",
    "    b_a_i = np.argmax(IR)\n",
    "    \n",
    "    return b_a_i, IR[b_a_i]"
   ]
  },
  {
   "cell_type": "code",
   "execution_count": 11,
   "metadata": {
    "scrolled": true
   },
   "outputs": [
    {
     "data": {
      "text/plain": [
       "(5, 0.07679411544067233)"
      ]
     },
     "execution_count": 11,
     "metadata": {},
     "output_type": "execute_result"
    }
   ],
   "source": [
    "get_split_attribute(X, y, {k: None for k in range(X.shape[1])}, _gini, verbose=0)"
   ]
  },
  {
   "cell_type": "markdown",
   "metadata": {},
   "source": [
    "### 3.2 Finding the most common class\n",
    "\n",
    "For labeling nodes in the tree, we also need a function to quickly calculate the most common class label in a vector $y$ of class labels.\n",
    "\n",
    "Let's define a function `most_common_class`, that takes a vector `y` of class labels and returns the most frequent label in `y`.\n",
    "\n",
    "As a side quest: It's helpful later on, if the function also returns a boolean (`true`/`false`) to indicate whether all labels in `y` are the same (pure)."
   ]
  },
  {
   "cell_type": "code",
   "execution_count": 12,
   "metadata": {
    "tags": []
   },
   "outputs": [],
   "source": [
    "def most_common_class(y):\n",
    "    \"\"\"\n",
    "    :param y: the vector of class labels, i.e. the target\n",
    "    returns: (1) the most frequent class label in 'y' and (2) a boolean flag indicating whether y is pure\n",
    "    \"\"\"\n",
    "    y_v, y_c = np.unique(y, return_counts=True)\n",
    "    label = y_v[np.argmax(y_c)]\n",
    "    fIsPure = len(y_v) == 1\n",
    "    return label, fIsPure"
   ]
  },
  {
   "cell_type": "markdown",
   "metadata": {},
   "source": [
    "### 3.3 Decision Nodes and the Decision Tree classifier\n",
    "\n",
    "We need to get used to classes, before we can implement the algorithm.\n",
    "\n",
    "A decision node should store the attribute this node splits on, a list of successor nodes (children) and the label assigned to that node.\n",
    "\n",
    "In addition, each decision node gets an ID assigned, so we can identify nodes later on."
   ]
  },
  {
   "cell_type": "code",
   "execution_count": 13,
   "metadata": {},
   "outputs": [],
   "source": [
    "class DecisionNode(object):\n",
    "    NODEID = 0\n",
    "\n",
    "    def __init__(self, attr: int = -1, children : dict = None, label : int = None):\n",
    "        \"\"\"\n",
    "        The column index of the split attribute in 'X'\n",
    "        \"\"\"\n",
    "        self.attr = attr \n",
    "        \n",
    "        \"\"\"\n",
    "        A dictionary of successor nodes.\n",
    "        The dictionary key is a value of the split attribute and the corresponding object is the DecisionNode created for that branch\n",
    "        Example: Attribute 'temperature' has values ['hot', 'medium', 'cold'].\n",
    "                 Suppose the column index of 'temperature' in X is: 3. This value is stored in 'attr'.\n",
    "                 The 'children' dictionary contains: \n",
    "                    {\n",
    "                       'hot': DecisionNode(...), \n",
    "                       'medium': DecisionNode(...), \n",
    "                       'cold', DecisionNode(...)\n",
    "                    }\n",
    "        \"\"\"\n",
    "        self.children = children\n",
    "        \n",
    "        \"\"\"\n",
    "        The label assigned to that DecisionNode. A value from 'y'.\n",
    "        \"\"\"\n",
    "        self.label = label\n",
    "        \n",
    "        \"\"\"\n",
    "        Some identifier for that DecisionNode. First node has value 0. Then 1, 2, 3....\n",
    "        \"\"\"\n",
    "        self.id = DecisionNode.NODEID\n",
    "        DecisionNode.NODEID += 1"
   ]
  },
  {
   "cell_type": "markdown",
   "metadata": {},
   "source": [
    "#### Decision Tree class\n",
    "\n",
    "The skeleton of our decision tree class should offer the following methods:\n",
    "- `__init__(criterion, max_depth)`: When creating an instance of the decision tree, we need to pass the impurity function and initialize a `root` node\n",
    "- `fit(X, y)`: Creates the decision tree on data points $X$ with labels $y$. The tree is constructed by recursively splitting on the **best** attribute. In each recursive call, we need to\n",
    "    - check whether a the current node is pure (exit condition)\n",
    "    - check whether the currently remaining attribute list is empty (exit condition)\n",
    "    - check whether the current depth (d - remaining-attributes) exceeds max-depth (exit condition)\n",
    "    - find the best attribute for splitting (i.e. `get_split_attribute(...)`)\n",
    "    - call the function recursively for each data subset corresponding to each split and create a decision node.\n",
    "- `predict(X)`: Starting from the root, follow the node-children relationships until we hit a node without children (leaf node). Then return the label of that node.\n",
    "- `getDepth()`: Return the maximum depth of the tree: i.e. the maximum number of nodes from the root node to some leaf node \n",
    "- `printTree()`: A visualization of our tree.\n",
    "\n",
    "Since tree traversal is a recursive procedure, I suggest you define your own \"inner\" function in each of the functions mentioned above.\n",
    "\n",
    "See the following skeleton below."
   ]
  },
  {
   "cell_type": "code",
   "execution_count": 14,
   "metadata": {},
   "outputs": [],
   "source": [
    "class DecisionTreeID3(object):\n",
    "    def __init__(self, criterion=_entropy, max_depth=5):\n",
    "        self.root = None\n",
    "        self.criterion = criterion\n",
    "        self.max_depth = max_depth\n",
    "    \n",
    "    def fit(self, X, y, verbose=True):\n",
    "        \n",
    "        def _fit(X, y, attributes):\n",
    "            # Recursive function calling itself\n",
    "            pass\n",
    "        \n",
    "        attributes = {a_i: np.unique(X[:, a_i]) for a_i in range(X.shape[1])}\n",
    "\n",
    "        for a_i, values in attributes.items():\n",
    "            print(f\"Attribute with column index {a_i} has different values: {values}\")\n",
    "            \n",
    "        self.root = _fit(X, y, attributes)\n",
    "        \n",
    "        return self\n",
    "    \n",
    "    def predict(self, X):\n",
    "        \n",
    "        def _predict(x, node):\n",
    "            # Recursive function calling itself\n",
    "            pass\n",
    "\n",
    "        return [_predict(x, self.root) for x in X]\n",
    "    \n",
    "    def getDepth(self):\n",
    "        \n",
    "        def _depth(node):\n",
    "            # Recursive function calling itself\n",
    "            pass\n",
    "        \n",
    "        return _depth(self.root)\n",
    "    \n",
    "    def printTree(self):\n",
    "        \n",
    "        def _print(node, test=\"\", level=0):\n",
    "            # Recursive function calling itself\n",
    "            pass\n",
    "        \n",
    "        return _print(self.root)"
   ]
  },
  {
   "cell_type": "code",
   "execution_count": 15,
   "metadata": {},
   "outputs": [
    {
     "name": "stdout",
     "output_type": "stream",
     "text": [
      "Attribute with column index 0 has different values: [0 1 2 3]\n",
      "Attribute with column index 1 has different values: [0 1 2 3]\n",
      "Attribute with column index 2 has different values: [0 1 2 3]\n",
      "Attribute with column index 3 has different values: [0 1 2]\n",
      "Attribute with column index 4 has different values: [0 1 2]\n",
      "Attribute with column index 5 has different values: [0 1 2]\n"
     ]
    }
   ],
   "source": [
    "tree = DecisionTreeID3()\n",
    "tree.fit(X, y, verbose=False)\n",
    "tree.predict(X)\n",
    "tree.printTree()\n",
    "tree.getDepth()"
   ]
  },
  {
   "cell_type": "code",
   "execution_count": 151,
   "metadata": {},
   "outputs": [
    {
     "name": "stdout",
     "output_type": "stream",
     "text": [
      "My recommendation is [2] (in truth it is 2)\n",
      "My recommendation is [2] (in truth it is 2)\n",
      "My recommendation is [2] (in truth it is 2)\n",
      "My recommendation is [2] (in truth it is 2)\n",
      "My recommendation is [2] (in truth it is 2)\n",
      "My recommendation is [2] (in truth it is 2)\n",
      "My recommendation is [2] (in truth it is 2)\n",
      "My recommendation is [2] (in truth it is 2)\n",
      "My recommendation is [2] (in truth it is 2)\n",
      "My recommendation is [2] (in truth it is 2)\n",
      "My recommendation is [2] (in truth it is 2)\n",
      "My recommendation is [2] (in truth it is 2)\n",
      "My recommendation is [2] (in truth it is 2)\n",
      "My recommendation is [2] (in truth it is 2)\n",
      "My recommendation is [2] (in truth it is 2)\n",
      "My recommendation is [2] (in truth it is 2)\n",
      "My recommendation is [2] (in truth it is 2)\n",
      "My recommendation is [2] (in truth it is 2)\n",
      "My recommendation is [2] (in truth it is 2)\n",
      "My recommendation is [2] (in truth it is 2)\n",
      "My recommendation is [2] (in truth it is 2)\n",
      "My recommendation is [2] (in truth it is 2)\n",
      "My recommendation is [2] (in truth it is 2)\n",
      "My recommendation is [2] (in truth it is 2)\n",
      "My recommendation is [2] (in truth it is 2)\n",
      "My recommendation is [2] (in truth it is 2)\n",
      "My recommendation is [0] (in truth it is 2)\n",
      "My recommendation is [2] (in truth it is 2)\n",
      "My recommendation is [2] (in truth it is 2)\n",
      "My recommendation is [2] (in truth it is 2)\n",
      "My recommendation is [2] (in truth it is 2)\n",
      "My recommendation is [2] (in truth it is 2)\n",
      "My recommendation is [2] (in truth it is 2)\n",
      "My recommendation is [2] (in truth it is 2)\n",
      "My recommendation is [2] (in truth it is 2)\n",
      "My recommendation is [2] (in truth it is 2)\n",
      "My recommendation is [2] (in truth it is 2)\n",
      "My recommendation is [2] (in truth it is 2)\n",
      "My recommendation is [2] (in truth it is 2)\n",
      "My recommendation is [2] (in truth it is 2)\n",
      "My recommendation is [2] (in truth it is 2)\n",
      "My recommendation is [2] (in truth it is 2)\n",
      "My recommendation is [2] (in truth it is 2)\n",
      "My recommendation is [2] (in truth it is 2)\n",
      "My recommendation is [2] (in truth it is 2)\n",
      "My recommendation is [2] (in truth it is 2)\n",
      "My recommendation is [2] (in truth it is 2)\n",
      "My recommendation is [2] (in truth it is 2)\n",
      "My recommendation is [2] (in truth it is 2)\n",
      "My recommendation is [2] (in truth it is 2)\n",
      "My recommendation is [2] (in truth it is 2)\n",
      "My recommendation is [0] (in truth it is 0)\n",
      "My recommendation is [2] (in truth it is 2)\n",
      "My recommendation is [2] (in truth it is 2)\n",
      "My recommendation is [0] (in truth it is 0)\n",
      "My recommendation is [2] (in truth it is 2)\n",
      "My recommendation is [0] (in truth it is 0)\n",
      "My recommendation is [0] (in truth it is 0)\n",
      "My recommendation is [2] (in truth it is 2)\n",
      "My recommendation is [2] (in truth it is 2)\n",
      "My recommendation is [0] (in truth it is 2)\n",
      "My recommendation is [2] (in truth it is 2)\n",
      "My recommendation is [0] (in truth it is 2)\n",
      "My recommendation is [0] (in truth it is 0)\n",
      "My recommendation is [2] (in truth it is 2)\n",
      "My recommendation is [0] (in truth it is 0)\n",
      "My recommendation is [0] (in truth it is 0)\n",
      "My recommendation is [2] (in truth it is 2)\n",
      "My recommendation is [2] (in truth it is 2)\n",
      "My recommendation is [2] (in truth it is 2)\n",
      "My recommendation is [2] (in truth it is 2)\n",
      "My recommendation is [2] (in truth it is 2)\n",
      "My recommendation is [2] (in truth it is 2)\n",
      "My recommendation is [2] (in truth it is 2)\n",
      "My recommendation is [2] (in truth it is 2)\n",
      "My recommendation is [2] (in truth it is 2)\n",
      "My recommendation is [2] (in truth it is 2)\n",
      "My recommendation is [2] (in truth it is 2)\n",
      "My recommendation is [0] (in truth it is 0)\n",
      "My recommendation is [2] (in truth it is 2)\n",
      "My recommendation is [2] (in truth it is 2)\n",
      "My recommendation is [0] (in truth it is 0)\n",
      "My recommendation is [2] (in truth it is 2)\n",
      "My recommendation is [0] (in truth it is 0)\n",
      "My recommendation is [0] (in truth it is 0)\n",
      "My recommendation is [2] (in truth it is 2)\n",
      "My recommendation is [2] (in truth it is 2)\n",
      "My recommendation is [0] (in truth it is 0)\n",
      "My recommendation is [2] (in truth it is 2)\n",
      "My recommendation is [0] (in truth it is 0)\n",
      "My recommendation is [0] (in truth it is 0)\n",
      "My recommendation is [2] (in truth it is 2)\n",
      "My recommendation is [0] (in truth it is 0)\n",
      "My recommendation is [0] (in truth it is 0)\n",
      "My recommendation is [2] (in truth it is 2)\n",
      "My recommendation is [2] (in truth it is 2)\n",
      "My recommendation is [2] (in truth it is 2)\n",
      "My recommendation is [2] (in truth it is 2)\n",
      "My recommendation is [2] (in truth it is 2)\n",
      "My recommendation is [2] (in truth it is 2)\n"
     ]
    }
   ],
   "source": [
    "for i in range(100):\n",
    "    t = 500 + i\n",
    "    print (\"My recommendation is %s (in truth it is %s)\"%(tree.predict(dataset[[t],0:6]), dataset[t,6]))"
   ]
  },
  {
   "cell_type": "code",
   "execution_count": null,
   "metadata": {},
   "outputs": [],
   "source": []
  }
 ],
 "metadata": {
  "anaconda-cloud": {},
  "kernelspec": {
   "display_name": "Python 3 (ipykernel)",
   "language": "python",
   "name": "python3"
  },
  "language_info": {
   "codemirror_mode": {
    "name": "ipython",
    "version": 3
   },
   "file_extension": ".py",
   "mimetype": "text/x-python",
   "name": "python",
   "nbconvert_exporter": "python",
   "pygments_lexer": "ipython3",
   "version": "3.8.9"
  },
  "toc": {
   "colors": {
    "hover_highlight": "#DAA520",
    "running_highlight": "#FF0000",
    "selected_highlight": "#FFD700"
   },
   "moveMenuLeft": true,
   "nav_menu": {
    "height": "210px",
    "width": "252px"
   },
   "navigate_menu": true,
   "number_sections": true,
   "sideBar": true,
   "threshold": 4,
   "toc_cell": false,
   "toc_section_display": "block",
   "toc_window_display": false,
   "widenNotebook": false
  }
 },
 "nbformat": 4,
 "nbformat_minor": 4
}
