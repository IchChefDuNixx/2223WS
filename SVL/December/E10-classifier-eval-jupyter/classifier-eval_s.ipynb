{
 "cells": [
  {
   "cell_type": "markdown",
   "id": "a67e415e-6179-433d-b8ca-a8fda88c1f64",
   "metadata": {},
   "source": [
    "# Classifier Evaluation"
   ]
  },
  {
   "cell_type": "markdown",
   "id": "d2971b3f-d9dc-4db7-b437-97ce1aa08faf",
   "metadata": {
    "tags": []
   },
   "source": [
    "## Task 1: Hold-Out\n",
    "\n",
    "Implement the Hold-Out method in Python. Your function should accept a list of arbitrary elements and a parameter `training_set_ratio` (e.g. 0.8).\n",
    "The function should return a training set and a testing set as specified by the `training_set_ratio`.\n",
    "\n",
    "Note: Normally, we would use existing implementations (see below). "
   ]
  },
  {
   "cell_type": "code",
   "execution_count": 130,
   "id": "e8350f59-903c-456e-995b-59f056fd6e16",
   "metadata": {},
   "outputs": [],
   "source": [
    "import numpy as np\n",
    "from sklearn.model_selection import train_test_split"
   ]
  },
  {
   "cell_type": "code",
   "execution_count": 131,
   "id": "6c35b859-b8ee-481a-8fbc-f6eef05d981d",
   "metadata": {},
   "outputs": [
    {
     "data": {
      "text/plain": [
       "[['s', 'm', 'h', 'C', 'r', 'i', '!', 'a'], ['s', '!', 't']]"
      ]
     },
     "execution_count": 131,
     "metadata": {},
     "output_type": "execute_result"
    }
   ],
   "source": [
    "x = list(\"Christmas!!\")\n",
    "train_test_split(x, train_size=.8)"
   ]
  },
  {
   "cell_type": "code",
   "execution_count": 132,
   "id": "3c033dc6-0d05-4e11-9508-6b4fe5f581fc",
   "metadata": {},
   "outputs": [],
   "source": [
    "def holdOut(data, training_set_ratio=0.8):\n",
    "    \n",
    "    assert training_set_ratio >= 0.0 and training_set_ratio <= 1.0,  \" training_set_ratio not in [0,1]\"\n",
    "    \n",
    "    n = len(data)\n",
    "    index_array = np.arange(n, dtype=np.int32)\n",
    "    np.random.shuffle(index_array)\n",
    "    s_index = int(training_set_ratio * n)\n",
    "    \n",
    "    return [index_array[:s_index], index_array[s_index:]]"
   ]
  },
  {
   "cell_type": "code",
   "execution_count": 135,
   "id": "6d2d07e6-0605-4905-93d8-f05fded71909",
   "metadata": {},
   "outputs": [
    {
     "data": {
      "text/plain": [
       "(array([ 7,  8, 10,  6,  9,  4,  2,  0], dtype=int32),\n",
       " array([3, 5, 1], dtype=int32))"
      ]
     },
     "execution_count": 135,
     "metadata": {},
     "output_type": "execute_result"
    }
   ],
   "source": [
    "train_indices, test_indices = holdOut(x, 0.8)\n",
    "train_indices, test_indices"
   ]
  },
  {
   "cell_type": "markdown",
   "id": "fc5ecc75-9350-4f4a-bdfb-1a0a23d9dddc",
   "metadata": {
    "tags": []
   },
   "source": [
    "## Task 2: $k$-fold Cross-Validation\n",
    "\n",
    "Below, you see how you can use $k$-fold CV in sklearn."
   ]
  },
  {
   "cell_type": "code",
   "execution_count": 137,
   "id": "688dea3a-93b2-48c8-94fd-0d19a309223d",
   "metadata": {},
   "outputs": [
    {
     "data": {
      "text/plain": [
       "array(['A', 'B', 'C', 'D', 'E', 'F', 'G', 'H', 'I', 'J', 'K'], dtype='<U1')"
      ]
     },
     "execution_count": 137,
     "metadata": {},
     "output_type": "execute_result"
    }
   ],
   "source": [
    "x = np.array(list(\"ABCDEFGHIJK\"))\n",
    "x"
   ]
  },
  {
   "cell_type": "code",
   "execution_count": 138,
   "id": "3ca46de5-216f-47be-bb0e-aed11890610b",
   "metadata": {},
   "outputs": [
    {
     "name": "stdout",
     "output_type": "stream",
     "text": [
      "[ 4  5  6  7  8  9 10] [0 1 2 3]\n",
      "['E' 'F' 'G' 'H' 'I' 'J' 'K'] ['A' 'B' 'C' 'D']\n",
      "\n",
      "[ 0  1  2  3  8  9 10] [4 5 6 7]\n",
      "['A' 'B' 'C' 'D' 'I' 'J' 'K'] ['E' 'F' 'G' 'H']\n",
      "\n",
      "[0 1 2 3 4 5 6 7] [ 8  9 10]\n",
      "['A' 'B' 'C' 'D' 'E' 'F' 'G' 'H'] ['I' 'J' 'K']\n",
      "\n"
     ]
    }
   ],
   "source": [
    "from sklearn.model_selection import KFold\n",
    "\n",
    "splits = KFold(3, shuffle=False)\n",
    "\n",
    "for i, (train_index, test_index) in enumerate(splits.split(x)):\n",
    "    print(train_index, test_index)\n",
    "    print(x[train_index], x[test_index])\n",
    "    print()"
   ]
  },
  {
   "cell_type": "markdown",
   "id": "428ba199-3218-4b14-80f6-a86c99a2a1e5",
   "metadata": {},
   "source": [
    "Now, implement the $k$-fold splitting for cross-validation in Python. \n",
    "\n",
    "Note: This is rather a Python exercise."
   ]
  },
  {
   "cell_type": "code",
   "execution_count": 139,
   "id": "6182c025-dc9b-4597-9528-67d61943ab35",
   "metadata": {},
   "outputs": [
    {
     "name": "stdout",
     "output_type": "stream",
     "text": [
      "N 11 FoldSize 2 RemainingElements?: 1\n",
      "Fold 0 StrtIndex 0 EndIndex 2\n",
      "[ 2  3  4  5  6  7  8  9 10] [0 1]\n",
      "Fold 1 StrtIndex 2 EndIndex 4\n",
      "[ 0  1  4  5  6  7  8  9 10] [2 3]\n",
      "Fold 2 StrtIndex 4 EndIndex 6\n",
      "[ 0  1  2  3  6  7  8  9 10] [4 5]\n",
      "Fold 3 StrtIndex 6 EndIndex 8\n",
      "[ 0  1  2  3  4  5  8  9 10] [6 7]\n",
      "Fold 4 StrtIndex 8 EndIndex 11\n",
      "[0 1 2 3 4 5 6 7] [ 8  9 10]\n"
     ]
    }
   ],
   "source": [
    "def cv(data, k):\n",
    "    \n",
    "    n = len(data)\n",
    "    index_arr = np.arange(n)\n",
    "    \n",
    "    fold_size = n // k\n",
    "    remaining_elements_for_last_fold = n - (k * fold_size)\n",
    "    \n",
    "    print(f\"N {n} FoldSize {fold_size} RemainingElements?: {remaining_elements_for_last_fold}\")\n",
    "    \n",
    "    for i in range(k):\n",
    "        fold_strt_i = i * fold_size\n",
    "        fold_end_i = (i+1) * fold_size\n",
    "        \n",
    "        # If we are dealing with the last fold\n",
    "        # -> Add the left-over elements to the fold\n",
    "        if i == k-1:\n",
    "            fold_end_i = n\n",
    "        \n",
    "        print(f\"Fold {i} StrtIndex {fold_strt_i} EndIndex {fold_end_i}\") \n",
    "      \n",
    "        test_indices = index_arr[fold_strt_i : fold_end_i]\n",
    "        train_indices = np.concatenate([index_arr[:fold_strt_i], index_arr[fold_end_i:]])   \n",
    "        \n",
    "        print(train_indices, test_indices)\n",
    "\n",
    "cv(x, 5)"
   ]
  }
 ],
 "metadata": {
  "kernelspec": {
   "display_name": "Python 3 (ipykernel)",
   "language": "python",
   "name": "python3"
  },
  "language_info": {
   "codemirror_mode": {
    "name": "ipython",
    "version": 3
   },
   "file_extension": ".py",
   "mimetype": "text/x-python",
   "name": "python",
   "nbconvert_exporter": "python",
   "pygments_lexer": "ipython3",
   "version": "3.9.6"
  }
 },
 "nbformat": 4,
 "nbformat_minor": 5
}
