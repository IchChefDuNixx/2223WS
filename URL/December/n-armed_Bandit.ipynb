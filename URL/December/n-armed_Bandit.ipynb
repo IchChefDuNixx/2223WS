{
 "cells": [
  {
   "cell_type": "markdown",
   "metadata": {},
   "source": [
    "## n-Armed Bandits\n",
    "\n",
    "This sample introduces the n-armed bandit problem, the conflict between exploration and exploitation, and several ways how to balance this conflict."
   ]
  },
  {
   "cell_type": "code",
   "execution_count": 1,
   "metadata": {},
   "outputs": [],
   "source": [
    "import numpy as np\n",
    "import matplotlib.pyplot as plt\n",
    "%matplotlib inline\n",
    "import gym"
   ]
  },
  {
   "cell_type": "markdown",
   "metadata": {},
   "source": [
    "### The Problem defintion:\n",
    "A typical slot machine is a device in which the player pulls a lever arm and receives rewards at some expected rate. Because the expected rate is typically negative, these machines are sometimes referred to as “one-armed bandits”. By analogy, a “multi-armed bandit” is a machine in which there are multiple lever arms to pull, each one of which may pay out at a different expected rate (= reward). \n",
    "\n",
    "The “multi-armed bandit” problem refers to the challenge of constructing a strategy for pulling the levers when one has no prior knowledge of the payout rate for any of the levers. Therefore, one must strike a balance between exploring each of the levers in order to determine their value, while exploiting one’s current knowledge in order to favor high paying levers."
   ]
  },
  {
   "cell_type": "markdown",
   "metadata": {},
   "source": [
    "### The Bandit Class\n",
    "Let's define the bandit:"
   ]
  },
  {
   "cell_type": "code",
   "execution_count": null,
   "metadata": {},
   "outputs": [],
   "source": [
    "class Bandit:\n",
    "    def __init__(self, k):\n",
    "        # k: number of bandit arms\n",
    "        self.k = k\n",
    "        \n",
    "        # qstar: action values\n",
    "        self.qstar = np.random.normal(size=k).round(2)\n",
    "    \n",
    "    def pull(self, a):\n",
    "        return np.random.normal(loc=self.qstar[a]) # returns reward of slot machine\n",
    "    \n",
    "    def __str__(self):\n",
    "        return np.array_str(self.qstar)\n"
   ]
  },
  {
   "cell_type": "markdown",
   "metadata": {},
   "source": [
    "The greed action selection algorithm"
   ]
  },
  {
   "cell_type": "code",
   "execution_count": null,
   "metadata": {},
   "outputs": [
    {
     "name": "stdout",
     "output_type": "stream",
     "text": [
      "[ 4.02179387 -0.35414454 -1.88088394 -1.74521905 -0.55988483] [-0.34904381 -0.7252206  -0.79604951 -0.90802647 -0.1036677 ]\n"
     ]
    }
   ],
   "source": [
    "def greedy_action_selection(k, numsteps):\n",
    "    # k: number of bandit arms\n",
    "    # numsteps: number of steps (repeated action selections)\n",
    "    \n",
    "    # Apossible[t]: list of possible actions at step t\n",
    "    Apossible = {}\n",
    "    \n",
    "    # A[t]: action selected at step t\n",
    "    A = np.zeros((numsteps,))\n",
    "    \n",
    "    # N[a,t]: the number of times action a was selected \n",
    "    #         in steps 0 through t-1\n",
    "    N = np.zeros((k,numsteps+1))\n",
    "    \n",
    "    # R[t]: reward at step t\n",
    "    R = np.zeros((numsteps,))\n",
    "    \n",
    "    # Q[a,t]: estimated value of action a at step t\n",
    "    Q = np.zeros((k,(numsteps+1)))\n",
    "\n",
    "    # Initialize bandit\n",
    "    bandit = Bandit(k)\n",
    "\n",
    "    for t in range(numsteps):\n",
    "\n",
    "        # Select greedy actions as possible actions\n",
    "        Apossible[t] = np.argwhere(Q[:,t] == np.amax(Q[:,t])).flatten()\n",
    "\n",
    "        # Select action randomly from possible actions\n",
    "        a = Apossible[t][np.random.randint(len(Apossible[t]))]\n",
    "\n",
    "        # Record action taken\n",
    "        A[t] = a\n",
    "\n",
    "        # Perform action (= sample reward)\n",
    "        R[t] = bandit.pull(a)\n",
    "\n",
    "        # Update action counts\n",
    "        N[:,t+1] = N[:,t]\n",
    "        N[a,t+1] += 1\n",
    "\n",
    "        # Update action value estimates, incrementally\n",
    "        if N[a,t] > 0:\n",
    "            Q[:,t+1] = Q[:,t]\n",
    "            Q[a,t+1] = Q[a,t] + (R[t] - Q[a,t]) / N[a,t]\n",
    "        else:\n",
    "            Q[:,t+1] = Q[:,t]\n",
    "            Q[a,t+1] = R[t]\n",
    "\n",
    "        #Q[:,t] = np.around(Q:t], decimals=2)\n",
    "    return {'bandit': bandit, \n",
    "            'Apossible': Apossible, \n",
    "            'A': A, 'N' : N, 'R' : R, 'Q' : Q}\n",
    "    \n",
    "def epsilon_greedy_action_selection(k, numsteps, epsilon=0.0):\n",
    "    bandit = Bandit(k)\n",
    "    profit = np.zeros(k)\n",
    "    avg = np.zeros(numsteps)\n",
    "    for step in range(numsteps):\n",
    "        aPossible = []\n",
    "        for i in range(k): \n",
    "            if profit[i] == np.max(profit): aPossible.append(i)\n",
    "        rng = np.random.random()\n",
    "        if rng > epsilon:\n",
    "            y = np.random.randint(len(aPossible))\n",
    "            profit[aPossible[y]] += bandit.pull(y)\n",
    "            #print(f\"positions with max value: {aPossible}, chosen: {aPossible[y]}\\n{profit}\\n\")\n",
    "        else: \n",
    "            y = np.random.randint(k)\n",
    "            profit[y] += bandit.pull(y)\n",
    "            #print(\"!random guess!\")\n",
    "            #print(f\"positions with max value: {aPossible}, chosen: {y}\\n{profit}\\n\")\n",
    "        avg[step] = np.average(profit)\n",
    "    return profit, avg\n",
    "\n",
    "p, a = epsilon_greedy_action_selection(5,5,0.1)\n",
    "print(p, a)"
   ]
  },
  {
   "cell_type": "markdown",
   "metadata": {},
   "source": [
    "### Single run"
   ]
  },
  {
   "cell_type": "code",
   "execution_count": null,
   "metadata": {},
   "outputs": [
    {
     "name": "stdout",
     "output_type": "stream",
     "text": [
      "Bandit Q: [ 1.13  0.18 -0.19  1.39 -0.23  0.01 -0.92  0.5  -1.03 -0.41]\n",
      "Action A: [3. 3. 3. 3. 3.]\n",
      "Reward R: [2.58506482 1.50693349 0.58971381 0.21865295 0.11441228]\n",
      "Est    Q:\n",
      "[[0.         0.         0.         0.         0.         0.        ]\n",
      " [0.         0.         0.         0.         0.         0.        ]\n",
      " [0.         0.         0.         0.         0.         0.        ]\n",
      " [0.         2.58506482 1.50693349 1.04832365 0.77176675 0.60742813]\n",
      " [0.         0.         0.         0.         0.         0.        ]\n",
      " [0.         0.         0.         0.         0.         0.        ]\n",
      " [0.         0.         0.         0.         0.         0.        ]\n",
      " [0.         0.         0.         0.         0.         0.        ]\n",
      " [0.         0.         0.         0.         0.         0.        ]\n",
      " [0.         0.         0.         0.         0.         0.        ]]\n",
      "\n",
      "\n"
     ]
    }
   ],
   "source": [
    "k = 10\n",
    "numsteps = 5\n",
    "\n",
    "def printResult(bandit_task):\n",
    "    print('Bandit Q: %s' % bandit_task['bandit'])\n",
    "    print('Action A: %s' % bandit_task['A'])\n",
    "    print('Reward R: %s' % bandit_task['R'])\n",
    "    print('Est    Q:')\n",
    "    print('%s' % bandit_task['Q'])\n",
    "    print(\"\\n\")\n",
    "    \n",
    "bandit_task = greedy_action_selection(k, numsteps)\n",
    "printResult(bandit_task)"
   ]
  },
  {
   "cell_type": "markdown",
   "metadata": {},
   "source": [
    "### Conversation over 500 plays"
   ]
  },
  {
   "cell_type": "code",
   "execution_count": null,
   "metadata": {},
   "outputs": [
    {
     "data": {
      "text/plain": [
       "(-5.0, 523.95)"
      ]
     },
     "execution_count": 5,
     "metadata": {},
     "output_type": "execute_result"
    },
    {
     "data": {
      "image/png": "[encoded data removed]",
      "text/plain": [
       "<Figure size 432x288 with 1 Axes>"
      ]
     },
     "metadata": {
      "needs_background": "light"
     },
     "output_type": "display_data"
    }
   ],
   "source": [
    "k = 10\n",
    "numsteps = 500\n",
    "numIterations = 2000\n",
    "\n",
    "avgR = np.zeros((numsteps, ))\n",
    "for task in range(numIterations):\n",
    "    bandit_task = greedy_action_selection(k,numsteps)\n",
    "    avgR += bandit_task['R']\n",
    "avgR /= numIterations\n",
    "\n",
    "plt.plot(avgR)\n",
    "plt.ylabel('Average reward')\n",
    "plt.xlabel('Steps (number of plays)')\n",
    "plt.xlim(-5)"
   ]
  },
  {
   "cell_type": "code",
   "execution_count": null,
   "metadata": {},
   "outputs": [
    {
     "name": "stdout",
     "output_type": "stream",
     "text": [
      "0\n",
      "1\n",
      "2\n",
      "3\n",
      "4\n",
      "5\n",
      "6\n",
      "7\n",
      "8\n",
      "9\n"
     ]
    },
    {
     "data": {
      "image/png": "[encoded data removed]",
      "text/plain": [
       "<Figure size 432x288 with 1 Axes>"
      ]
     },
     "metadata": {
      "needs_background": "light"
     },
     "output_type": "display_data"
    }
   ],
   "source": [
    "k = 10\n",
    "numsteps = 500\n",
    "numIterations = 2000\n",
    "avgProfit = np.zeros(numsteps)\n",
    "for epsilon in range(10):\n",
    "    for iter in range(numIterations):\n",
    "        reward, average = epsilon_greedy_action_selection(k, numsteps, epsilon/100)\n",
    "        avgProfit += average\n",
    "    print(epsilon)\n",
    "\n",
    "avgProfit /= numIterations*10\n",
    "plt.plot(avgProfit)\n",
    "plt.ylabel('Average reward')\n",
    "plt.xlabel('Steps (number of plays)')\n",
    "plt.xlim(-5)\n",
    "None"
   ]
  },
  {
   "cell_type": "code",
   "execution_count": 482,
   "metadata": {},
   "outputs": [
    {
     "name": "stdout",
     "output_type": "stream",
     "text": [
      "avg steps until 'done': 32.092311, avg steps until win: 59.643070787637086\n",
      "totalWins: 2006/1000000 (0.20%)\n"
     ]
    }
   ],
   "source": [
    "def random_policy(env=None, k=1):\n",
    "    totalStepsTaken = 0\n",
    "    totalWins = 0\n",
    "    winningSteps = 0\n",
    "    for i in range(k):\n",
    "        c = env.reset()\n",
    "        done = False\n",
    "        stepsTaken = 0\n",
    "        while(not done):\n",
    "            c, reward, done, info, prob = env.step(env.action_space.sample())\n",
    "            stepsTaken += 1\n",
    "            totalStepsTaken += 1\n",
    "        if reward == 1:\n",
    "            totalWins += 1\n",
    "            winningSteps += stepsTaken\n",
    "        env.close()\n",
    "    print(f\"avg steps until 'done': {totalStepsTaken/k}, avg steps until win: {winningSteps/totalWins}\\ntotalWins: {totalWins}/{k} ({100*totalWins/k:.2f}%)\")\n",
    "    \n",
    "env = gym.make(\"FrozenLake8x8-v1\")\n",
    "random_policy(env, 1000000)"
   ]
  }
 ],
 "metadata": {
  "kernelspec": {
   "display_name": "base",
   "language": "python",
   "name": "python3"
  },
  "language_info": {
   "codemirror_mode": {
    "name": "ipython",
    "version": 3
   },
   "file_extension": ".py",
   "mimetype": "text/x-python",
   "name": "python",
   "nbconvert_exporter": "python",
   "pygments_lexer": "ipython3",
   "version": "3.9.13"
  },
  "vscode": {
   "interpreter": {
    "hash": "3017eed01e41510f2e4758f02a5c4b458edd512c2a48ee2ef97492bf17f5a7a1"
   }
  }
 },
 "nbformat": 4,
 "nbformat_minor": 2
}
