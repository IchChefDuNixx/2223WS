{
 "cells": [
  {
   "cell_type": "code",
   "execution_count": 3,
   "metadata": {},
   "outputs": [
    {
     "name": "stdout",
     "output_type": "stream",
     "text": [
      "manhattan distance:  10\n",
      "[2, 3, 5]\n",
      "euclidean distance:  8.60555127546399\n",
      "[2.0, 3.0, 3.605551275463989]\n",
      "manhattan distance Arr:  10\n",
      "[2, 3, 5]\n",
      "euclidean distance Arr:  8.60555127546399\n",
      "[2.0, 3.0, 3.605551275463989]\n"
     ]
    }
   ],
   "source": [
    "from math import sqrt\n",
    "import numpy\n",
    "from matplotlib import pyplot\n",
    "\n",
    "#2a\n",
    "listOne = [[1,1], [2,2], [3,3]]\n",
    "listTwo = [[1,3], [2,5], [1,6]]\n",
    "\n",
    "def distanceManhattan(a,b):\n",
    "    i = 0\n",
    "    dist = [0]*len(a)\n",
    "    total = 0\n",
    "    if(len(a)!=len(b)):\n",
    "        return 0\n",
    "    else:\n",
    "        for tuple in a:\n",
    "            temp = abs(a[i][0] - b[i][0]) + abs(a[i][1] - b[i][1])\n",
    "            total += temp\n",
    "            dist[i] = temp\n",
    "            i += 1\n",
    "    print(\"manhattan distance: \", total)\n",
    "    return dist\n",
    "\n",
    "def distanceEuclidean(a,b):\n",
    "    i = 0\n",
    "    dist = [0]*len(a)\n",
    "    total = 0\n",
    "    if(len(a)!=len(b)):\n",
    "        return 0\n",
    "    else:\n",
    "        for tuple in a:\n",
    "            temp = sqrt((a[i][0] - b[i][0])**2 + (a[i][1] - b[i][1])**2)\n",
    "            total += temp\n",
    "            dist[i] = temp\n",
    "            i += 1\n",
    "    print(\"euclidean distance: \", total)\n",
    "    return dist\n",
    "    \n",
    "print(distanceManhattan(listOne,listTwo))\n",
    "print(distanceEuclidean(listOne,listTwo))\n",
    "\n",
    "#2b\n",
    "arrayOne = numpy.array([[1,1],[2,2],[3,3]])\n",
    "arrayTwo = numpy.array([[1,3],[2,5],[1,6]])\n",
    "\n",
    "def distanceManhattanArr(a,b):\n",
    "    i = 0\n",
    "    dist = [0]*len(a)\n",
    "    total = 0\n",
    "    if(len(a)!=len(b)):\n",
    "        return 0\n",
    "    else:\n",
    "        for tuple in a:\n",
    "            temp = abs(list(a[:,1])[i]-list(b[:,0])[i]) + abs(list(a[:,0])[i]-list(b[:,1])[i])\n",
    "            total += temp\n",
    "            dist[i] = temp\n",
    "            i += 1\n",
    "    print(\"manhattan distance Arr: \", total)        \n",
    "    return dist\n",
    "\n",
    "def distanceEuclideanArr(a,b):\n",
    "    i = 0\n",
    "    dist = [0]*len(a)\n",
    "    total = 0\n",
    "    if(len(a)!=len(b)):\n",
    "        return 0\n",
    "    else:\n",
    "        for tuple in a:\n",
    "            temp = numpy.sqrt((list(a[:,1])[i] - list(b[:,0])[i])**2 + (list(a[:,0])[i] - list(b[:,1])[i])**2)\n",
    "            total += temp\n",
    "            dist[i] = temp\n",
    "            i += 1\n",
    "    print(\"euclidean distance Arr: \", total)\n",
    "    return dist\n",
    "\n",
    "print(distanceManhattanArr(arrayOne,arrayTwo))\n",
    "print(distanceEuclideanArr(arrayOne,arrayTwo))"
   ]
  },
  {
   "cell_type": "code",
   "execution_count": 4,
   "metadata": {},
   "outputs": [
    {
     "name": "stdout",
     "output_type": "stream",
     "text": [
      "<class 'list'>\n",
      "{'x': [35.0, 57.0, 35.0], 'y': [69.0, 36.0, 14.0]}\n"
     ]
    },
    {
     "data": {
      "image/png": "[encoded data removed]",
      "text/plain": [
       "<Figure size 432x288 with 1 Axes>"
      ]
     },
     "metadata": {
      "needs_background": "light"
     },
     "output_type": "display_data"
    },
    {
     "name": "stdout",
     "output_type": "stream",
     "text": [
      "[(35.0, 69.0), (57.0, 36.0), (35.0, 14.0)]\n",
      "{'x': [25, 34, 22, 27, 33, 33, 31, 22, 35, 34, 67, 54, 57, 43, 50, 57, 59, 52, 65, 47, 49, 48, 35, 33, 44, 45, 38, 43, 51, 46], 'y': [79, 51, 53, 78, 59, 74, 73, 57, 69, 75, 51, 32, 40, 47, 53, 36, 35, 58, 59, 50, 25, 20, 14, 12, 20, 5, 29, 27, 8, 7], 'class': ['green', 'green', 'green', 'green', 'green', 'green', 'green', 'green', 'green', 'green', 'blue', 'blue', 'blue', 'blue', 'blue', 'blue', 'blue', 'green', 'blue', 'blue', 'blue', 'red', 'red', 'red', 'red', 'red', 'red', 'red', 'red', 'red']}\n"
     ]
    },
    {
     "data": {
      "image/png": "[encoded data removed]",
      "text/plain": [
       "<Figure size 432x288 with 1 Axes>"
      ]
     },
     "metadata": {
      "needs_background": "light"
     },
     "output_type": "display_data"
    },
    {
     "name": "stdout",
     "output_type": "stream",
     "text": [
      "[[25, 79, 'green'], [34, 51, 'green'], [22, 53, 'green'], [27, 78, 'green'], [33, 59, 'green'], [33, 74, 'green'], [31, 73, 'green'], [22, 57, 'green'], [35, 69, 'green'], [34, 75, 'green'], [67, 51, 'blue'], [54, 32, 'blue'], [57, 40, 'blue'], [43, 47, 'blue'], [50, 53, 'blue'], [57, 36, 'blue'], [59, 35, 'blue'], [52, 58, 'green'], [65, 59, 'blue'], [47, 50, 'blue'], [49, 25, 'blue'], [48, 20, 'red'], [35, 14, 'red'], [33, 12, 'red'], [44, 20, 'red'], [45, 5, 'red'], [38, 29, 'red'], [43, 27, 'red'], [51, 8, 'red'], [46, 7, 'red']]\n",
      "[348, 726, 11] [548, 428, 10] [383, 142, 9]\n"
     ]
    },
    {
     "data": {
      "image/png": "[encoded data removed]",
      "text/plain": [
       "<Figure size 432x288 with 1 Axes>"
      ]
     },
     "metadata": {
      "needs_background": "light"
     },
     "output_type": "display_data"
    },
    {
     "name": "stdout",
     "output_type": "stream",
     "text": [
      "[(31.636363636363637, 66.0), (54.8, 42.8), (42.55555555555556, 15.777777777777779)]\n"
     ]
    }
   ],
   "source": [
    "#3\n",
    "import random\n",
    "from random import randint\n",
    "\n",
    "\n",
    "data = {'x': [25,34,22,27,33,33,31,22,35,34,67,54,57,43,50,57,59,52,65,47,49,48,35,33,44,45,38,43,51,46],\n",
    "        'y': [79,51,53,78,59,74,73,57,69,75,51,32,40,47,53,36,35,58,59,50,25,20,14,12,20,5,29,27,8,7]\n",
    "       }\n",
    "\n",
    "#for key in data:\n",
    "#    print(data[key])\n",
    "\n",
    "#print(list(zip(data[\"x\"],data[\"y\"])))\n",
    "\n",
    "#for coord in zip(data[\"x\"],data[\"y\"]):\n",
    "#    print(coord)\n",
    "\n",
    "dataLength = len(data[\"x\"])\n",
    "dataArray = numpy.zeros([dataLength,2])\n",
    "\n",
    "i = 0\n",
    "while i < dataLength:\n",
    "    dataArray[i,0] = data[\"x\"][i]\n",
    "    dataArray[i,1] = data[\"y\"][i]\n",
    "    i += 1\n",
    "#print(dataArray)\n",
    "k = 3 # variable\n",
    "j = 2\n",
    "splits = {}\n",
    "splits[\"x\"] = [dataArray[round(1/(k+1) * dataLength)][0]]\n",
    "splits[\"y\"] = [dataArray[round(1/(k+1) * dataLength)][1]]\n",
    "print(type(splits[\"x\"]))\n",
    "while j <= k:\n",
    "    splits[\"x\"].append(dataArray[round(j/(k+1) * dataLength)][0])\n",
    "    splits[\"y\"].append(dataArray[round(j/(k+1) * dataLength)][1])\n",
    "    j += 1\n",
    "print(splits)\n",
    "\n",
    "pyplot.plot(data[\"x\"], data[\"y\"], \"ro\")\n",
    "pyplot.plot(splits[\"x\"], splits[\"y\"], \"o\", color=\"black\")\n",
    "pyplot.show()\n",
    "\n",
    "def calcDist(p1, p2):\n",
    "    return round(sqrt((p1[0]-p2[0])**2 + (p1[1]-p2[1])**2)*100)/100\n",
    "\n",
    "def multiDist(centroids, p):\n",
    "    result = []\n",
    "    for center in centroids:\n",
    "        result.append(calcDist(center, p))\n",
    "    return result\n",
    "\n",
    "Kcentroids = list(zip(splits[\"x\"], splits[\"y\"]))\n",
    "print(Kcentroids)\n",
    "\n",
    "dist = numpy.zeros([dataLength, k])\n",
    "for num, coord in enumerate(dataArray):\n",
    "    dist[num] = multiDist(Kcentroids, coord)\n",
    "#print(dist)\n",
    "\n",
    "data[\"class\"] = []\n",
    "for distance in dist:\n",
    "    min = distance[0]\n",
    "    minIndex = 0\n",
    "    for num, x in enumerate(distance[1:]):\n",
    "        if x < min:\n",
    "            min = x\n",
    "            minIndex = num+1\n",
    "        elif x == min:\n",
    "            print(\"check\", x, num)\n",
    "    data[\"class\"].append(minIndex)\n",
    "        \n",
    "for num, kClass in enumerate(data[\"class\"]):\n",
    "    if kClass == 0:\n",
    "        data[\"class\"][num] = \"green\"\n",
    "    elif kClass == 1:\n",
    "        data[\"class\"][num] = \"blue\"\n",
    "    elif kClass == 2:\n",
    "        data[\"class\"][num] = \"red\"\n",
    "    else:\n",
    "        print(\"class error\")\n",
    "        \n",
    "print(data)\n",
    "\n",
    "\n",
    "\n",
    "pyplot.scatter(data[\"x\"], data[\"y\"], c=data[\"class\"])\n",
    "pyplot.plot(splits[\"x\"], splits[\"y\"], \"x\", color=\"black\")\n",
    "pyplot.show()\n",
    "\n",
    "sumGreen = [0,0,0]\n",
    "sumBlue = [0,0,0]\n",
    "sumRed = [0,0,0]\n",
    "\n",
    "transposed = []\n",
    "for num, x in enumerate(data[\"x\"]):\n",
    "    transposed.append([data[\"x\"][num], data[\"y\"][num], data[\"class\"][num]])\n",
    "print(transposed)\n",
    "\n",
    "for value in transposed:\n",
    "    if value[2] == \"green\":\n",
    "        sumGreen[0] += value[0]\n",
    "        sumGreen[1] += value[1]\n",
    "        sumGreen[2] += 1\n",
    "    elif value[2] == \"blue\":\n",
    "        sumBlue[0] += value[0]\n",
    "        sumBlue[1] += value[1]\n",
    "        sumBlue[2] += 1\n",
    "    elif value[2] == \"red\":\n",
    "        sumRed[0] += value[0]\n",
    "        sumRed[1] += value[1]\n",
    "        sumRed[2] += 1\n",
    "print(sumGreen, sumBlue, sumRed)\n",
    "\n",
    "pyplot.plot(data[\"x\"], data[\"y\"], \"x\", c=\"black\")\n",
    "pyplot.plot(sumGreen[0]/sumGreen[2], sumGreen[1]/sumGreen[2], \"o\", c=\"Green\")\n",
    "pyplot.plot(sumBlue[0]/sumBlue[2], sumBlue[1]/sumBlue[2], \"o\", c=\"Blue\")\n",
    "pyplot.plot(sumRed[0]/sumRed[2], sumRed[1]/sumRed[2], \"o\", c=\"Red\")\n",
    "pyplot.annotate((sumGreen[0]/sumGreen[2], sumGreen[1]/sumGreen[2]), (sumGreen[0]/sumGreen[2], sumGreen[1]/sumGreen[2]))\n",
    "pyplot.annotate((sumBlue[0]/sumBlue[2], sumBlue[1]/sumBlue[2]), (sumBlue[0]/sumBlue[2], sumBlue[1]/sumBlue[2]))\n",
    "pyplot.annotate((sumRed[0]/sumRed[2], sumRed[1]/sumRed[2]), (sumRed[0]/sumRed[2], sumRed[1]/sumRed[2]))\n",
    "pyplot.show()\n",
    "\n",
    "print([\n",
    "(sumGreen[0]/sumGreen[2], sumGreen[1]/sumGreen[2]),\n",
    "(sumBlue[0]/sumBlue[2], sumBlue[1]/sumBlue[2]),\n",
    "(sumRed[0]/sumRed[2], sumRed[1]/sumRed[2])\n",
    "])\n"
   ]
  }
 ],
 "metadata": {
  "kernelspec": {
   "display_name": "Python 3.10.0 64-bit",
   "language": "python",
   "name": "python3"
  },
  "language_info": {
   "codemirror_mode": {
    "name": "ipython",
    "version": 3
   },
   "file_extension": ".py",
   "mimetype": "text/x-python",
   "name": "python",
   "nbconvert_exporter": "python",
   "pygments_lexer": "ipython3",
   "version": "3.10.0"
  },
  "orig_nbformat": 4,
  "vscode": {
   "interpreter": {
    "hash": "e2f04cf2f7544c889a1a0098c1cf78ced2c664ea38df0d27a9b899b5831aa2a5"
   }
  }
 },
 "nbformat": 4,
 "nbformat_minor": 2
}
